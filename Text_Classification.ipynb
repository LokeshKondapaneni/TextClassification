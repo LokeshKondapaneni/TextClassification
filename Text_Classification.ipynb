{
 "cells": [
  {
   "cell_type": "markdown",
   "metadata": {
    "colab_type": "text",
    "id": "mDMgSstPYv0P"
   },
   "source": [
    "# Text Classification:"
   ]
  },
  {
   "cell_type": "markdown",
   "metadata": {
    "colab_type": "text",
    "id": "rfWUeIN1Yv1N"
   },
   "source": [
    "The 20 newsgroups dataset comprises around 18000 newsgroups posts on 20 topics. "
   ]
  },
  {
   "cell_type": "code",
   "execution_count": 363,
   "metadata": {},
   "outputs": [],
   "source": [
    "import warnings\n",
    "warnings.filterwarnings('ignore')\n",
    "import pandas as pd\n",
    "import numpy as np\n",
    "import matplotlib.pyplot as plt\n",
    "import re\n",
    "import os\n",
    "import nltk\n",
    "import datetime\n",
    "from sklearn.model_selection import train_test_split\n",
    "import tensorflow as tf\n",
    "from tensorflow.keras.preprocessing.text import Tokenizer\n",
    "from tensorflow.keras.preprocessing.sequence import pad_sequences\n",
    "from tensorflow.keras.models import Model\n",
    "from tensorflow.keras.layers import Input, Dense, Flatten\n",
    "from tensorflow.keras.layers import Conv1D\n",
    "from tensorflow.keras.layers import MaxPool1D, concatenate, Embedding, Dropout, LeakyReLU\n",
    "from tensorflow.keras.utils import plot_model\n",
    "from sklearn.metrics import f1_score\n",
    "import tensorflow.keras.backend as K\n",
    "from sklearn.preprocessing import LabelEncoder\n",
    "from sklearn.metrics import f1_score"
   ]
  },
  {
   "cell_type": "code",
   "execution_count": 2,
   "metadata": {},
   "outputs": [],
   "source": [
    "# https://stackoverflow.com/questions/48660547/how-can-i-extract-gpelocation-using-nltk-ne-chunk\n",
    "def get_continuous_chunks(text, label):\n",
    "    \"\"\" Function to implement chunking so we can get named entities and geograpphic locations\"\"\"\n",
    "    chunked = nltk.ne_chunk(nltk.tag.pos_tag(nltk.word_tokenize(text)))\n",
    "    continuous_chunk = []\n",
    "    current_chunk = []\n",
    "\n",
    "    for subtree in chunked.subtrees():\n",
    "        if type(subtree) == nltk.tree.Tree and subtree.label() == label:\n",
    "            current_chunk.append(\" \".join([token for token, pos in subtree.leaves()]))\n",
    "        if current_chunk:\n",
    "            named_entity = \" \".join(current_chunk)\n",
    "            if named_entity not in continuous_chunk:\n",
    "                continuous_chunk.append(named_entity)\n",
    "                current_chunk = []\n",
    "        else:\n",
    "            continue\n",
    "\n",
    "    return continuous_chunk"
   ]
  },
  {
   "cell_type": "markdown",
   "metadata": {},
   "source": [
    "<pre>\n",
    "Pre-processing steps:\n",
    "-> We will extract emails from the given texts and remove them from the original text\n",
    "-> We will extract subject from the given texts and remove them from the original text\n",
    "-> Remove any sentences which start with From:, Write to:\n",
    "-> Remove words within angular brackets ('< >'), '( )' brackets and between '_ _'\n",
    "-> Remove all new line characters \\n, tabs \\t, '-', '\\', digits, start or end with '_'\n",
    "-> Remove words which end with ':'\n",
    "-> Expand words to their full length - Decontractions\n",
    "-> Chunking of text data - remove 'PERSON' and join words with '-' for GPE entities\n",
    "-> Convert text to lower case and remove words gretaer than 15 and less than 2\n",
    "-> Remove characters other than 'a-z_'\n",
    "</pre>"
   ]
  },
  {
   "cell_type": "code",
   "execution_count": 13,
   "metadata": {
    "colab": {},
    "colab_type": "code",
    "id": "uEGEHTNQYv1N"
   },
   "outputs": [],
   "source": [
    "def preprocess(Input_Text):\n",
    "    \"\"\"Do all the Preprocessing as shown above and\n",
    "    return a tuple contain preprocess_email,preprocess_subject,preprocess_text for that Text_data\"\"\"\n",
    "    \n",
    "    text = Input_Text\n",
    "    # email pre processing\n",
    "    searchEmail = re.findall(r'\\w+@[\\w*\\.]*', text)\n",
    "    emails = []\n",
    "    if searchEmail:\n",
    "        for i in range(len(searchEmail)):\n",
    "            temp = searchEmail[i].split('@')[1].split('.')\n",
    "            for j in range(len(temp)):\n",
    "                if not len(temp[j]) <= 2:\n",
    "                    emails.append(temp[j])\n",
    "        # replace email from input text with space\n",
    "        text = Input_Text.replace(searchEmail[i],' ')\n",
    "    processedEmail = ' '.join(emails)\n",
    "\n",
    "    # pre processed subject\n",
    "    subject1 = re.findall(r'Subject:.*\\n', text)\n",
    "    if subject1:\n",
    "        subject1 = subject1[0]\n",
    "        subject2 = re.sub(r'\\w+:','',subject1)\n",
    "        processedSubject = re.sub(r'[\\n\\t\\r]','',re.sub(r'[^\\w\\s]','', subject2 )).strip(' ')\n",
    "        # replace subject with space\n",
    "        text = text.replace(subject1, ' ')\n",
    "    else:\n",
    "        processedSubject = ''\n",
    "    \n",
    "    # Delete all the sentences where a sentence starts with \"Write to:\" or \"From:\"\n",
    "    text = re.sub(r'Write to:.*\\n|From:.*\\n',' ', text)\n",
    "    \n",
    "    # Delete all the tags like \"< anyword >\"\n",
    "    text = re.sub(r'<.*>',' ', text)\n",
    "    \n",
    "    # Delete all the data which are present in the brackets\n",
    "    text = re.sub(r'\\(.*\\)',' ', text)\n",
    "\n",
    "    # Remove all the newlines('\\n'), tabs('\\t'), \"-\", \"\\\"\n",
    "    text = re.sub(r'\\n',' ',text)\n",
    "    text = re.sub(r'\\t',' ',text)\n",
    "    text = re.sub(r'-',' ',text)\n",
    "    text = re.sub(r'\\\\',' ',text)\n",
    "\n",
    "    # Remove all the words which ends with \":\"\n",
    "    text = re.sub(r'\\w+:', ' ', text)\n",
    "\n",
    "    # Decontractions, replace words to full words\n",
    "    phrase = re.sub(r\"won't\", \"will not\", text)\n",
    "    phrase = re.sub(r\"can\\'t\", \"can not\", phrase)\n",
    "    phrase = re.sub(r\"n\\'t\", \" not\", phrase)\n",
    "    phrase = re.sub(r\"\\'re\", \" are\", phrase)\n",
    "    phrase = re.sub(r\"\\'s\", \" is\", phrase)\n",
    "    phrase = re.sub(r\"\\'d\", \" would\", phrase)\n",
    "    phrase = re.sub(r\"\\'ll\", \" will\", phrase)\n",
    "    phrase = re.sub(r\"\\'t\", \" not\", phrase)\n",
    "    phrase = re.sub(r\"\\'ve\", \" have\", phrase)\n",
    "    text = re.sub(r\"\\'m\", \" am\", phrase)\n",
    "\n",
    "    # Dechunk \n",
    "    dechunkGPE = get_continuous_chunks(text, 'GPE')\n",
    "    dechunkPerson = get_continuous_chunks(text,'PERSON')\n",
    "    if dechunkGPE:\n",
    "        for ele in dechunkGPE:\n",
    "            text = text.replace(ele,'_'.join(ele.split(' ')))\n",
    "\n",
    "    if dechunkPerson:\n",
    "        for ele in dechunkPerson:\n",
    "            text = text.replace(ele,' ')\n",
    "\n",
    "    # Replace all the digits with space \n",
    "    text = re.sub(r'\\d',' ',text)\n",
    "\n",
    "    # Remove '_words_', '_words', 'words_' from text\n",
    "    underscore = re.findall(r'_\\w+_', text)\n",
    "    underscoreText = text\n",
    "    if underscore:\n",
    "        for ele in underscore:\n",
    "            tempStrip = ele.strip('_')\n",
    "            underscoreText = underscoreText.replace(ele, tempStrip)\n",
    "\n",
    "    underscore = re.findall(r'_\\w+',underscoreText )\n",
    "    underscore.extend(re.findall(r'\\w+_', underscoreText))\n",
    "    if underscore:\n",
    "        for ele in underscore:\n",
    "            tempStrip = ele.strip('_')\n",
    "            underscoreText = underscoreText.replace(ele, tempStrip)\n",
    "\n",
    "    # Remove letters before underscore in 'oneLetter_words' and 'twoleter_words' \n",
    "    underscore = re.findall(r'\\w{1,2}_\\w+', underscoreText)\n",
    "    if underscore:\n",
    "        for ele in underscore:\n",
    "            tempStrip = ele.split('_')\n",
    "            underscoreText = underscoreText.replace(ele, tempStrip[1])\n",
    "\n",
    "    # Convert whole text to lower case\n",
    "    text = underscoreText.lower()\n",
    "    \n",
    "    # Remove words greater than or equal to 15 and less than or equa to 2\n",
    "    text = re.sub(r'\\w{15,}',' ',text)\n",
    "    text = re.sub(r'\\b\\w{1,2}\\b',' ',text)\n",
    "\n",
    "    # replace all the words except \"A-Za-z_\" with space\n",
    "    preprocessedText = re.sub(r'[^a-zA-Z_]',' ', text)\n",
    "    \n",
    "    preprocessedText = re.sub(' +', ' ', preprocessedText)\n",
    "    preprocessedText = re.sub(',', ' ', preprocessedText)\n",
    "    processedSubject = re.sub(' +', ' ', processedSubject)\n",
    "    processedEmail = re.sub(' +', ' ', processedEmail)\n",
    "    return (processedEmail,processedSubject,preprocessedText)"
   ]
  },
  {
   "cell_type": "code",
   "execution_count": 32,
   "metadata": {},
   "outputs": [],
   "source": [
    "with open('documents/alt.atheism_49960.txt') as f:\n",
    "    contents = f.read()\n",
    "    email, subj, text = preprocess(contents)"
   ]
  },
  {
   "cell_type": "code",
   "execution_count": 15,
   "metadata": {
    "scrolled": true
   },
   "outputs": [
    {
     "name": "stdout",
     "output_type": "stream",
     "text": [
      "From: mathew <mathew@mantis.co.uk>\n",
      "Subject: Alt.Atheism FAQ: Atheist Resources\n",
      "\n",
      "Archive-name: atheism/resources\n",
      "Alt-atheism-archive-name: resources\n",
      "Last-modified: 11 December 1992\n",
      "Version: 1.0\n",
      "\n",
      "                              Atheist Resources\n",
      "\n",
      "                      Addresses of Atheist Organizations\n",
      "\n",
      "                                     USA\n",
      "\n",
      "FREEDOM FROM RELIGION FOUNDATION\n",
      "\n",
      "Darwin fish bumper stickers and assorted other atheist paraphernalia are\n",
      "available from the Freedom From Religion Foundation in the US.\n",
      "\n",
      "Write to:  FFRF, P.O. Box 750, Madison, WI 53701.\n",
      "Telephone: (608) 256-8900\n",
      "\n",
      "EVOLUTION DESIGNS\n",
      "\n",
      "Evolution Designs sell the \"Darwin fish\".  It's a fish symbol, like the ones\n",
      "Christians stick on their cars, but with feet and the word \"Darwin\" written\n",
      "inside.  The deluxe moulded 3D plastic fish is $4.95 postpaid in the US.\n",
      "\n",
      "Write to:  Evolution Designs, 7119 Laurel Canyon #4, North Hollywood,\n",
      "           CA 91605.\n",
      "\n",
      "People in the San Francisco Bay area can get Darwin Fish from Lynn Gold --\n",
      "try mailing <figmo@netcom.com>.  For net people who go to Lynn directly, the\n",
      "price is $4.95 per fish.\n",
      "\n",
      "AMERICAN ATHEIST PRESS\n",
      "\n",
      "AAP publish various atheist books -- critiques of the Bible, lists of\n",
      "Biblical contradictions, and so on.  One such book is:\n",
      "\n",
      "\"The Bible Handbook\" by W.P. Ball and G.W. Foote.  American Atheist Press.\n",
      "372 pp.  ISBN 0-910309-26-4, 2nd edition, 1986.  Bible contradictions,\n",
      "absurdities, atrocities, immoralities... contains Ball, Foote: \"The Bible\n",
      "Contradicts Itself\", AAP.  Based on the King James version of the Bible.\n",
      "\n",
      "Write to:  American Atheist Press, P.O. Box 140195, Austin, TX 78714-0195.\n",
      "      or:  7215 Cameron Road, Austin, TX 78752-2973.\n",
      "Telephone: (512) 458-1244\n",
      "Fax:       (512) 467-9525\n",
      "\n",
      "PROMETHEUS BOOKS\n",
      "\n",
      "Sell books including Haught's \"Holy Horrors\" (see below).\n",
      "\n",
      "Write to:  700 East Amherst Street, Buffalo, New York 14215.\n",
      "Telephone: (716) 837-2475.\n",
      "\n",
      "An alternate address (which may be newer or older) is:\n",
      "Prometheus Books, 59 Glenn Drive, Buffalo, NY 14228-2197.\n",
      "\n",
      "AFRICAN-AMERICANS FOR HUMANISM\n",
      "\n",
      "An organization promoting black secular humanism and uncovering the history of\n",
      "black freethought.  They publish a quarterly newsletter, AAH EXAMINER.\n",
      "\n",
      "Write to:  Norm R. Allen, Jr., African Americans for Humanism, P.O. Box 664,\n",
      "           Buffalo, NY 14226.\n",
      "\n",
      "                                United Kingdom\n",
      "\n",
      "Rationalist Press Association          National Secular Society\n",
      "88 Islington High Street               702 Holloway Road\n",
      "London N1 8EW                          London N19 3NL\n",
      "071 226 7251                           071 272 1266\n",
      "\n",
      "British Humanist Association           South Place Ethical Society\n",
      "14 Lamb's Conduit Passage              Conway Hall\n",
      "London WC1R 4RH                        Red Lion Square\n",
      "071 430 0908                           London WC1R 4RL\n",
      "fax 071 430 1271                       071 831 7723\n",
      "\n",
      "The National Secular Society publish \"The Freethinker\", a monthly magazine\n",
      "founded in 1881.\n",
      "\n",
      "                                   Germany\n",
      "\n",
      "IBKA e.V.\n",
      "Internationaler Bund der Konfessionslosen und Atheisten\n",
      "Postfach 880, D-1000 Berlin 41. Germany.\n",
      "\n",
      "IBKA publish a journal:\n",
      "MIZ. (Materialien und Informationen zur Zeit. Politisches\n",
      "Journal der Konfessionslosesn und Atheisten. Hrsg. IBKA e.V.)\n",
      "MIZ-Vertrieb, Postfach 880, D-1000 Berlin 41. Germany.\n",
      "\n",
      "For atheist books, write to:\n",
      "\n",
      "IBDK, Internationaler B\"ucherdienst der Konfessionslosen\n",
      "Postfach 3005, D-3000 Hannover 1. Germany.\n",
      "Telephone: 0511/211216\n",
      "\n",
      "\n",
      "                               Books -- Fiction\n",
      "\n",
      "THOMAS M. DISCH\n",
      "\n",
      "\"The Santa Claus Compromise\"\n",
      "Short story.  The ultimate proof that Santa exists.  All characters and \n",
      "events are fictitious.  Any similarity to living or dead gods -- uh, well...\n",
      "\n",
      "WALTER M. MILLER, JR\n",
      "\n",
      "\"A Canticle for Leibowitz\"\n",
      "One gem in this post atomic doomsday novel is the monks who spent their lives\n",
      "copying blueprints from \"Saint Leibowitz\", filling the sheets of paper with\n",
      "ink and leaving white lines and letters.\n",
      "\n",
      "EDGAR PANGBORN\n",
      "\n",
      "\"Davy\"\n",
      "Post atomic doomsday novel set in clerical states.  The church, for example,\n",
      "forbids that anyone \"produce, describe or use any substance containing...\n",
      "atoms\". \n",
      "\n",
      "PHILIP K. DICK\n",
      "\n",
      "Philip K. Dick Dick wrote many philosophical and thought-provoking short \n",
      "stories and novels.  His stories are bizarre at times, but very approachable.\n",
      "He wrote mainly SF, but he wrote about people, truth and religion rather than\n",
      "technology.  Although he often believed that he had met some sort of God, he\n",
      "remained sceptical.  Amongst his novels, the following are of some relevance:\n",
      "\n",
      "\"Galactic Pot-Healer\"\n",
      "A fallible alien deity summons a group of Earth craftsmen and women to a\n",
      "remote planet to raise a giant cathedral from beneath the oceans.  When the\n",
      "deity begins to demand faith from the earthers, pot-healer Joe Fernwright is\n",
      "unable to comply.  A polished, ironic and amusing novel.\n",
      "\n",
      "\"A Maze of Death\"\n",
      "Noteworthy for its description of a technology-based religion.\n",
      "\n",
      "\"VALIS\"\n",
      "The schizophrenic hero searches for the hidden mysteries of Gnostic\n",
      "Christianity after reality is fired into his brain by a pink laser beam of\n",
      "unknown but possibly divine origin.  He is accompanied by his dogmatic and\n",
      "dismissively atheist friend and assorted other odd characters.\n",
      "\n",
      "\"The Divine Invasion\"\n",
      "God invades Earth by making a young woman pregnant as she returns from\n",
      "another star system.  Unfortunately she is terminally ill, and must be\n",
      "assisted by a dead man whose brain is wired to 24-hour easy listening music.\n",
      "\n",
      "MARGARET ATWOOD\n",
      "\n",
      "\"The Handmaid's Tale\"\n",
      "A story based on the premise that the US Congress is mysteriously\n",
      "assassinated, and fundamentalists quickly take charge of the nation to set it\n",
      "\"right\" again.  The book is the diary of a woman's life as she tries to live\n",
      "under the new Christian theocracy.  Women's right to own property is revoked,\n",
      "and their bank accounts are closed; sinful luxuries are outlawed, and the\n",
      "radio is only used for readings from the Bible.  Crimes are punished\n",
      "retroactively: doctors who performed legal abortions in the \"old world\" are\n",
      "hunted down and hanged.  Atwood's writing style is difficult to get used to\n",
      "at first, but the tale grows more and more chilling as it goes on.\n",
      "\n",
      "VARIOUS AUTHORS\n",
      "\n",
      "\"The Bible\"\n",
      "This somewhat dull and rambling work has often been criticized.  However, it\n",
      "is probably worth reading, if only so that you'll know what all the fuss is\n",
      "about.  It exists in many different versions, so make sure you get the one\n",
      "true version.\n",
      "\n",
      "                             Books -- Non-fiction\n",
      "\n",
      "PETER DE ROSA\n",
      "\n",
      "\"Vicars of Christ\", Bantam Press, 1988\n",
      "Although de Rosa seems to be Christian or even Catholic this is a very\n",
      "enlighting history of papal immoralities, adulteries, fallacies etc.\n",
      "(German translation: \"Gottes erste Diener. Die dunkle Seite des Papsttums\",\n",
      "Droemer-Knaur, 1989)\n",
      "\n",
      "MICHAEL MARTIN\n",
      "\n",
      "\"Atheism: A Philosophical Justification\", Temple University Press,\n",
      " Philadelphia, USA.\n",
      "A detailed and scholarly justification of atheism.  Contains an outstanding\n",
      "appendix defining terminology and usage in this (necessarily) tendentious\n",
      "area.  Argues both for \"negative atheism\" (i.e. the \"non-belief in the\n",
      "existence of god(s)\") and also for \"positive atheism\" (\"the belief in the\n",
      "non-existence of god(s)\").  Includes great refutations of the most\n",
      "challenging arguments for god; particular attention is paid to refuting\n",
      "contempory theists such as Platinga and Swinburne.\n",
      "541 pages. ISBN 0-87722-642-3 (hardcover; paperback also available)\n",
      "\n",
      "\"The Case Against Christianity\", Temple University Press\n",
      "A comprehensive critique of Christianity, in which he considers\n",
      "the best contemporary defences of Christianity and (ultimately)\n",
      "demonstrates that they are unsupportable and/or incoherent.\n",
      "273 pages. ISBN 0-87722-767-5\n",
      "\n",
      "JAMES TURNER\n",
      "\n",
      "\"Without God, Without Creed\", The Johns Hopkins University Press, Baltimore,\n",
      " MD, USA\n",
      "Subtitled \"The Origins of Unbelief in America\".  Examines the way in which\n",
      "unbelief (whether agnostic or atheistic)  became a mainstream alternative\n",
      "world-view.  Focusses on the period 1770-1900, and while considering France\n",
      "and Britain the emphasis is on American, and particularly New England\n",
      "developments.  \"Neither a religious history of secularization or atheism,\n",
      "Without God, Without Creed is, rather, the intellectual history of the fate\n",
      "of a single idea, the belief that God exists.\" \n",
      "316 pages. ISBN (hardcover) 0-8018-2494-X (paper) 0-8018-3407-4\n",
      "\n",
      "GEORGE SELDES (Editor)\n",
      "\n",
      "\"The great thoughts\", Ballantine Books, New York, USA\n",
      "A \"dictionary of quotations\" of a different kind, concentrating on statements\n",
      "and writings which, explicitly or implicitly, present the person's philosophy\n",
      "and world-view.  Includes obscure (and often suppressed) opinions from many\n",
      "people.  For some popular observations, traces the way in which various\n",
      "people expressed and twisted the idea over the centuries.  Quite a number of\n",
      "the quotations are derived from Cardiff's \"What Great Men Think of Religion\"\n",
      "and Noyes' \"Views of Religion\".\n",
      "490 pages. ISBN (paper) 0-345-29887-X.\n",
      "\n",
      "RICHARD SWINBURNE\n",
      "\n",
      "\"The Existence of God (Revised Edition)\", Clarendon Paperbacks, Oxford\n",
      "This book is the second volume in a trilogy that began with \"The Coherence of\n",
      "Theism\" (1977) and was concluded with \"Faith and Reason\" (1981).  In this\n",
      "work, Swinburne attempts to construct a series of inductive arguments for the\n",
      "existence of God.  His arguments, which are somewhat tendentious and rely\n",
      "upon the imputation of late 20th century western Christian values and\n",
      "aesthetics to a God which is supposedly as simple as can be conceived, were\n",
      "decisively rejected in Mackie's \"The Miracle of Theism\".  In the revised\n",
      "edition of \"The Existence of God\", Swinburne includes an Appendix in which he\n",
      "makes a somewhat incoherent attempt to rebut Mackie.\n",
      "\n",
      "J. L. MACKIE\n",
      "\n",
      "\"The Miracle of Theism\", Oxford\n",
      "This (posthumous) volume contains a comprehensive review of the principal\n",
      "arguments for and against the existence of God.  It ranges from the classical\n",
      "philosophical positions of Descartes, Anselm, Berkeley, Hume et al, through\n",
      "the moral arguments of Newman, Kant and Sidgwick, to the recent restatements\n",
      "of the classical theses by Plantinga and Swinburne.  It also addresses those\n",
      "positions which push the concept of God beyond the realm of the rational,\n",
      "such as those of Kierkegaard, Kung and Philips, as well as \"replacements for\n",
      "God\" such as Lelie's axiarchism.  The book is a delight to read - less\n",
      "formalistic and better written than Martin's works, and refreshingly direct\n",
      "when compared with the hand-waving of Swinburne.\n",
      "\n",
      "JAMES A. HAUGHT\n",
      "\n",
      "\"Holy Horrors: An Illustrated History of Religious Murder and Madness\",\n",
      " Prometheus Books\n",
      "Looks at religious persecution from ancient times to the present day -- and\n",
      "not only by Christians.\n",
      "Library of Congress Catalog Card Number 89-64079. 1990.\n",
      "\n",
      "NORM R. ALLEN, JR.\n",
      "\n",
      "\"African American Humanism: an Anthology\"\n",
      "See the listing for African Americans for Humanism above.\n",
      "\n",
      "GORDON STEIN\n",
      "\n",
      "\"An Anthology of Atheism and Rationalism\", Prometheus Books\n",
      "An anthology covering a wide range of subjects, including 'The Devil, Evil\n",
      "and Morality' and 'The History of Freethought'.  Comprehensive bibliography.\n",
      "\n",
      "EDMUND D. COHEN\n",
      "\n",
      "\"The Mind of The Bible-Believer\", Prometheus Books\n",
      "A study of why people become Christian fundamentalists, and what effect it\n",
      "has on them.\n",
      "\n",
      "                                Net Resources\n",
      "\n",
      "There's a small mail-based archive server at mantis.co.uk which carries\n",
      "archives of old alt.atheism.moderated articles and assorted other files.  For\n",
      "more information, send mail to archive-server@mantis.co.uk saying\n",
      "\n",
      "   help\n",
      "   send atheism/index\n",
      "\n",
      "and it will mail back a reply.\n",
      "\n",
      "\n",
      "mathew\n",
      "ÿ\n",
      "\n"
     ]
    }
   ],
   "source": [
    "print(contents)"
   ]
  },
  {
   "cell_type": "code",
   "execution_count": 35,
   "metadata": {},
   "outputs": [
    {
     "data": {
      "text/plain": [
       "'mantis netcom com mantis'"
      ]
     },
     "execution_count": 35,
     "metadata": {},
     "output_type": "execute_result"
    }
   ],
   "source": [
    "email"
   ]
  },
  {
   "cell_type": "code",
   "execution_count": 33,
   "metadata": {},
   "outputs": [
    {
     "data": {
      "text/plain": [
       "'AltAtheism Atheist Resources'"
      ]
     },
     "execution_count": 33,
     "metadata": {},
     "output_type": "execute_result"
    }
   ],
   "source": [
    "subj"
   ]
  },
  {
   "cell_type": "code",
   "execution_count": 34,
   "metadata": {
    "scrolled": true
   },
   "outputs": [
    {
     "data": {
      "text/plain": [
       "' archive atheism resources alt atheism archive resources last december atheist resources addresses atheist organizations usa freedom from religion foundation fish bumper stickers and assorted other atheist paraphernalia are available from the freedom from religion foundation the evolution designs evolution designs sell the fish fish symbol like the ones stick their cars but with feet and the word written inside the deluxe moulded plastic fish postpaid the people the san francisco bay area can get fish from try mailing for net people who directly the price per fish american atheist press aap publish various atheist books critiques the bible lists biblical contradictions and one such book the bible handbook and american atheist press isbn edition bible contradictions absurdities atrocities immoralities contains the bible contradicts itself aap based the king version the bible austin prometheus books sell books including holy horrors alternate address prometheus books african americans for humanism organization promoting black secular humanism and uncovering the history black freethought they publish quarterly newsletter aah examiner united kingdom rationalist press association national secular society street holloway road london london british humanist association south place ethical society lamb conduit passage conway hall london red lion square london fax the national secular society publish the freethinker monthly magazine founded germany ibka bund der und berlin germany ibka publish miz materialien und zur zeit politisches journal der und ibka miz vertrieb postfach berlin germany for atheist books write ibdk ucherdienst der hannover germany books fiction thomas disch the claus compromise short story the ultimate proof that exists all characters and events are fictitious any similarity living dead gods well walter miller canticle for leibowitz one gem this post atomic doomsday novel the monks who spent their lives copying blueprints from saint leibowitz filling the sheets paper with ink and leaving white lines and letters edgar pangborn davy post atomic doomsday novel set clerical states the church for example forbids that anyone produce describe use any substance containing atoms philip dick wrote many philosophical and thought provoking short stories and novels his stories are bizarre times but very approachable wrote mainly but wrote about people truth and religion rather than technology although often believed that had met some sort god remained sceptical amongst his novels the following are some fallible alien deity summons group craftsmen and women remote planet raise giant cathedral from beneath the oceans when the deity begins demand faith from the earthers pot healer unable comply polished ironic and amusing novel maze death noteworthy for its description technology based religion valis the schizophrenic hero searches for the hidden mysteries gnostic ity after reality fired into his brain pink laser beam unknown but possibly divine origin accompanied his dogmatic and dismissively atheist friend and assorted other odd characters the divine invasion god invades making young woman pregnant she returns from another star system unfortunately she terminally ill and must assisted dead man whose brain wired hour easy listening music margaret atwood the handmaid story based the premise that the congress mysteriously assassinated and quickly take charge the nation set right again the book the diary woman life she tries live under the new theocracy women right own property revoked and their bank accounts are closed sinful luxuries are outlawed and the radio only used for readings from the bible crimes are punished doctors who performed legal abortions the old world are hunted down and hanged writing style difficult get used first but the tale grows more and more chilling goes various authors the bible this somewhat dull and rambling work has often been criticized however probably worth reading only that you will know what all the fuss about exists many different versions make sure you get the one true version books non fiction peter rosa vicars christ although seems even catholic this very enlighting history papal immoralities adulteries fallacies etc german gottes erste dunkle seite des michael martin philosophical justification philadelphia usa detailed and scholarly justification atheism contains outstanding appendix defining terminology and usage this tendentious area argues both for negative atheism the non belief the existence god and also for positive atheism the belief the non existence god includes great refutations the most challenging arguments for god particular attention paid refuting contempory theists such and swinburne pages isbn the case against ity comprehensive critique ity which considers the best contemporary defences ity and demonstrates that they are unsupportable and incoherent pages isbn james turner the johns hopkins university press baltimore usa subtitled the origins unbelief america examines the way which unbelief became mainstream alternative world view focusses the period and while considering france and britain the emphasis american and particularly newengland developments neither religious history secularization atheism rather the intellectual history the fate single idea the belief that god exists pages isbn george seldes the great thoughts antine books newyork usa dictionary quotations different kind concentrating statements and writings which explicitly implicitly present the person philosophy and world view includes obscure opinions from many people for some popular observations traces the way which various people expressed and twisted the idea over the centuries quite number the quotations are derived from cardiff what religion and views religion pages isbn richard swinburne the existence god oxford this book the second volume trilogy that began with the coherence theism this work swinburne attempts construct series inductive arguments for the existence god his arguments which are somewhat tendentious and rely upon the imputation late century western values and aesthetics god which supposedly simple can conceived were decisively rejected the miracle theism the revised edition the existence god swinburne includes appendix which makes somewhat incoherent attempt rebut mackie the miracle theism oxford this volume contains comprehensive review the principal arguments for and against the existence god ranges from the classical philosophical positions descartes anselm through the moral arguments newman kant and the recent restatements the classical theses and swinburne also addresses those positions which push the concept god beyond the realm the rational such those kierkegaard and well replacements for god such axiarchism the book delight read less formalistic and better written than works and refreshingly direct when compared with the hand waving swinburne haught holy illustrated history religious murder and madness prometheus books looks religious persecution from ancient times the present day and not only library congress catalog card number norm allen african american anthology see the listing for african americans for humanism above gordon stein anthology atheism and rationalism prometheus books anthology covering wide range subjects including the devil and morality and the history freethought comprehensive bibliography edmund cohen the mind the bible believer prometheus books study why people become and what effect has them net resources there small mail based archive server mantis which carries archives old alt atheism moderated articles and assorted other files for more information send mail archive saying help send atheism index and will mail back reply mathew '"
      ]
     },
     "execution_count": 34,
     "metadata": {},
     "output_type": "execute_result"
    }
   ],
   "source": [
    "text"
   ]
  },
  {
   "cell_type": "markdown",
   "metadata": {
    "colab_type": "text",
    "id": "2x3og_iaYv1S"
   },
   "source": [
    "### Call preprocess function on all the texts in the document "
   ]
  },
  {
   "cell_type": "code",
   "execution_count": 15,
   "metadata": {},
   "outputs": [],
   "source": [
    "preprocessed_file = open('preprocessed_features.csv','w+')\n",
    "preprocessed_file.write(\"class,preprocessed_text,preprocessed_subject,preprocessed_emails\")\n",
    "preprocessed_file.write(\"\\n\")\n",
    "\n",
    "files = os.listdir('documents')\n",
    "\n",
    "for file in files:\n",
    "    if(file.endswith(\"txt\")):\n",
    "        class_label=file.split('_')[0]\n",
    "        with open('documents/'+file) as fp:\n",
    "            input_Text = fp.read()\n",
    "            email, subj, text = preprocess(input_Text)\n",
    "        fp.close()\n",
    "    preprocessed_file.write(class_label+\",\"+text+\",\"+subj+\",\"+email+\"\\n\")\n",
    "\n",
    "preprocessed_file.close()"
   ]
  },
  {
   "cell_type": "code",
   "execution_count": 2,
   "metadata": {},
   "outputs": [
    {
     "data": {
      "text/html": [
       "<div>\n",
       "<style scoped>\n",
       "    .dataframe tbody tr th:only-of-type {\n",
       "        vertical-align: middle;\n",
       "    }\n",
       "\n",
       "    .dataframe tbody tr th {\n",
       "        vertical-align: top;\n",
       "    }\n",
       "\n",
       "    .dataframe thead th {\n",
       "        text-align: right;\n",
       "    }\n",
       "</style>\n",
       "<table border=\"1\" class=\"dataframe\">\n",
       "  <thead>\n",
       "    <tr style=\"text-align: right;\">\n",
       "      <th></th>\n",
       "      <th>class</th>\n",
       "      <th>preprocessed_text</th>\n",
       "      <th>preprocessed_subject</th>\n",
       "      <th>preprocessed_emails</th>\n",
       "    </tr>\n",
       "  </thead>\n",
       "  <tbody>\n",
       "    <tr>\n",
       "      <th>0</th>\n",
       "      <td>alt.atheism</td>\n",
       "      <td>archive atheism resources alt atheism archive...</td>\n",
       "      <td>AltAtheism Atheist Resources</td>\n",
       "      <td>mantis netcom com mantis</td>\n",
       "    </tr>\n",
       "  </tbody>\n",
       "</table>\n",
       "</div>"
      ],
      "text/plain": [
       "         class                                  preprocessed_text  \\\n",
       "0  alt.atheism   archive atheism resources alt atheism archive...   \n",
       "\n",
       "           preprocessed_subject       preprocessed_emails  \n",
       "0  AltAtheism Atheist Resources  mantis netcom com mantis  "
      ]
     },
     "execution_count": 2,
     "metadata": {},
     "output_type": "execute_result"
    }
   ],
   "source": [
    "# https://stackoverflow.com/questions/48812580/python-pandas-unicodedecodeerror-utf-8-codec-cant-decode-byte-0xcd-in-pos\n",
    "processedDF = pd.read_csv('preprocessed_features.csv', encoding='ISO-8859-1')\n",
    "processedDF.head(1)"
   ]
  },
  {
   "cell_type": "code",
   "execution_count": 3,
   "metadata": {},
   "outputs": [
    {
     "data": {
      "text/plain": [
       "(18828, 4)"
      ]
     },
     "execution_count": 3,
     "metadata": {},
     "output_type": "execute_result"
    }
   ],
   "source": [
    "processedDF.shape"
   ]
  },
  {
   "cell_type": "code",
   "execution_count": 4,
   "metadata": {},
   "outputs": [
    {
     "data": {
      "text/plain": [
       "rec.sport.hockey            999\n",
       "soc.religion.christian      997\n",
       "rec.motorcycles             994\n",
       "rec.sport.baseball          994\n",
       "sci.crypt                   991\n",
       "sci.med                     990\n",
       "rec.autos                   990\n",
       "sci.space                   987\n",
       "comp.os.ms-windows.misc     985\n",
       "comp.sys.ibm.pc.hardware    982\n",
       "sci.electronics             981\n",
       "comp.windows.x              980\n",
       "comp.graphics               973\n",
       "misc.forsale                972\n",
       "comp.sys.mac.hardware       961\n",
       "talk.politics.mideast       940\n",
       "talk.politics.guns          910\n",
       "alt.atheism                 799\n",
       "talk.politics.misc          775\n",
       "talk.religion.misc          628\n",
       "Name: class, dtype: int64"
      ]
     },
     "execution_count": 4,
     "metadata": {},
     "output_type": "execute_result"
    }
   ],
   "source": [
    "processedDF['class'].value_counts()"
   ]
  },
  {
   "cell_type": "markdown",
   "metadata": {
    "colab_type": "text",
    "id": "n3ucJLtWYv1V"
   },
   "source": [
    "## Training Model 1: Using 1D convolutions with word embeddings\n",
    "<pre>\n",
    "-> Combine the results of preprocess into a single column\n",
    "-> Tokenise the data\n",
    "-> Pad the sequence to get uniform number for all\n",
    "-> Create Loss history callback for metrics including f1 score\n",
    "-> Create callback for early stopping, scheduler- to dynamically change learning rate, TerminateNan - terminate when loss or weights become nan, Tensorboard - for visualizing metrics and weights\n",
    "-> Model with Conv1D layers with kernel sizes - 3,4,5 and number of filters -32 \n",
    "-> Layers with activation function-'relu' and kernel initializer - he_uniform\n",
    "-> Output layer with softmax activation \n",
    "</pre>"
   ]
  },
  {
   "cell_type": "code",
   "execution_count": 5,
   "metadata": {},
   "outputs": [],
   "source": [
    "processedDF['preprocessed_emails'] = processedDF['preprocessed_emails'].fillna('')"
   ]
  },
  {
   "cell_type": "code",
   "execution_count": 6,
   "metadata": {},
   "outputs": [],
   "source": [
    "processedDF['combined_data'] = processedDF['preprocessed_text'] + processedDF['preprocessed_subject'] + processedDF['preprocessed_emails']\n",
    "combined_data_df = processedDF[['combined_data']]\n",
    "y = processedDF[['class']]"
   ]
  },
  {
   "cell_type": "code",
   "execution_count": 7,
   "metadata": {},
   "outputs": [
    {
     "name": "stdout",
     "output_type": "stream",
     "text": [
      "<class 'pandas.core.frame.DataFrame'>\n",
      "RangeIndex: 18828 entries, 0 to 18827\n",
      "Data columns (total 5 columns):\n",
      " #   Column                Non-Null Count  Dtype \n",
      "---  ------                --------------  ----- \n",
      " 0   class                 18828 non-null  object\n",
      " 1   preprocessed_text     18828 non-null  object\n",
      " 2   preprocessed_subject  18828 non-null  object\n",
      " 3   preprocessed_emails   18828 non-null  object\n",
      " 4   combined_data         18828 non-null  object\n",
      "dtypes: object(5)\n",
      "memory usage: 735.6+ KB\n"
     ]
    }
   ],
   "source": [
    "processedDF.info()"
   ]
  },
  {
   "cell_type": "code",
   "execution_count": 20,
   "metadata": {},
   "outputs": [],
   "source": [
    "labelModel = LabelEncoder()\n",
    "labeled_y = labelModel.fit_transform(y)"
   ]
  },
  {
   "cell_type": "code",
   "execution_count": 218,
   "metadata": {},
   "outputs": [],
   "source": [
    "from tensorflow.keras.utils import to_categorical\n",
    "y_classes = to_categorical(labeled_y)"
   ]
  },
  {
   "cell_type": "code",
   "execution_count": 220,
   "metadata": {},
   "outputs": [
    {
     "data": {
      "text/plain": [
       "array([[1., 0., 0., ..., 0., 0., 0.],\n",
       "       [1., 0., 0., ..., 0., 0., 0.],\n",
       "       [1., 0., 0., ..., 0., 0., 0.],\n",
       "       ...,\n",
       "       [0., 0., 0., ..., 0., 0., 1.],\n",
       "       [0., 0., 0., ..., 0., 0., 1.],\n",
       "       [0., 0., 0., ..., 0., 0., 1.]], dtype=float32)"
      ]
     },
     "execution_count": 220,
     "metadata": {},
     "output_type": "execute_result"
    }
   ],
   "source": [
    "y_classes"
   ]
  },
  {
   "cell_type": "code",
   "execution_count": 265,
   "metadata": {},
   "outputs": [],
   "source": [
    "X_train, X_test, y_train, y_test = train_test_split(combined_data_df, y_classes , test_size=0.25, random_state=45, stratify = y)"
   ]
  },
  {
   "cell_type": "code",
   "execution_count": 266,
   "metadata": {},
   "outputs": [
    {
     "name": "stdout",
     "output_type": "stream",
     "text": [
      "(14121, 1) -------- (4707, 1)\n"
     ]
    }
   ],
   "source": [
    "print(X_train.shape,'--------', X_test.shape)"
   ]
  },
  {
   "cell_type": "code",
   "execution_count": 306,
   "metadata": {},
   "outputs": [],
   "source": [
    "model_tokenizer = Tokenizer(filters='!\"#$%&()*+,-./:;<=>?@[\\\\]^`{|}~\\t\\n', oov_token='UNK')\n",
    "model_tokenizer.fit_on_texts(X_train['combined_data'])"
   ]
  },
  {
   "cell_type": "code",
   "execution_count": 307,
   "metadata": {},
   "outputs": [
    {
     "data": {
      "text/plain": [
       "88571"
      ]
     },
     "execution_count": 307,
     "metadata": {},
     "output_type": "execute_result"
    }
   ],
   "source": [
    "len(model_tokenizer.word_index)"
   ]
  },
  {
   "cell_type": "code",
   "execution_count": 271,
   "metadata": {},
   "outputs": [],
   "source": [
    "#model_tokenizer.word_index[model_tokenizer.oov_token] = max(model_tokenizer.word_index.values()) + 1"
   ]
  },
  {
   "cell_type": "code",
   "execution_count": 308,
   "metadata": {},
   "outputs": [],
   "source": [
    "tokenized_train = model_tokenizer.texts_to_sequences(X_train['combined_data'])\n",
    "tokenized_test = model_tokenizer.texts_to_sequences(X_test['combined_data'])"
   ]
  },
  {
   "cell_type": "code",
   "execution_count": 309,
   "metadata": {},
   "outputs": [],
   "source": [
    "data_length = []\n",
    "for i in range(len(tokenized_train)):\n",
    "    data_length.append(len(tokenized_train[i]))"
   ]
  },
  {
   "cell_type": "code",
   "execution_count": 310,
   "metadata": {},
   "outputs": [
    {
     "data": {
      "image/png": "[encoded data removed]",
      "text/plain": [
       "<Figure size 432x288 with 1 Axes>"
      ]
     },
     "metadata": {
      "needs_background": "light"
     },
     "output_type": "display_data"
    }
   ],
   "source": [
    "plt.hist(data_length, bins=[0,1000, 10000])\n",
    "plt.show()"
   ]
  },
  {
   "cell_type": "code",
   "execution_count": 311,
   "metadata": {},
   "outputs": [
    {
     "data": {
      "text/plain": [
       "231.0"
      ]
     },
     "execution_count": 311,
     "metadata": {},
     "output_type": "execute_result"
    }
   ],
   "source": [
    "np.percentile(data_length,80)"
   ]
  },
  {
   "cell_type": "code",
   "execution_count": 312,
   "metadata": {},
   "outputs": [
    {
     "data": {
      "text/plain": [
       "(2833,)"
      ]
     },
     "execution_count": 312,
     "metadata": {},
     "output_type": "execute_result"
    }
   ],
   "source": [
    "data_length = np.asarray(data_length)\n",
    "data_length[data_length > 230].shape"
   ]
  },
  {
   "cell_type": "code",
   "execution_count": 313,
   "metadata": {},
   "outputs": [],
   "source": [
    "truncated_train= pad_sequences(tokenized_train, maxlen=230, padding='post')\n",
    "truncated_test= pad_sequences(tokenized_test, maxlen=230, padding='post')"
   ]
  },
  {
   "cell_type": "code",
   "execution_count": 314,
   "metadata": {},
   "outputs": [
    {
     "name": "stdout",
     "output_type": "stream",
     "text": [
      "(14121, 230) ------- (4707, 230)\n"
     ]
    }
   ],
   "source": [
    "truncated_train = np.array(truncated_train, dtype='float')\n",
    "truncated_test = np.array(truncated_test, dtype='float')\n",
    "\n",
    "print(truncated_train.shape,'-------' ,truncated_test.shape)"
   ]
  },
  {
   "cell_type": "code",
   "execution_count": 374,
   "metadata": {},
   "outputs": [],
   "source": [
    "#Reference: https://medium.com/@aakashgoel12/how-to-add-user-defined-function-get-f1-score-in-keras-metrics-3013f979ce0d\n",
    "# -> https://stackoverflow.com/questions/35365007/tensorflow-precision-recall-f1-score-and-confusion-matrix\n",
    "def micro_f1(y_true, y_pred):\n",
    "    TP = K.sum(K.round(K.clip(y_true * y_pred, 0, 1)))\n",
    "    original_positives = K.sum(K.round(K.clip(y_true, 0, 1)))\n",
    "    predicted_positives = K.sum(K.round(K.clip(y_pred, 0, 1)))\n",
    "    precision = TP / (predicted_positives + K.epsilon())\n",
    "    recall = TP / (original_positives + K.epsilon())\n",
    "    f1 = 2*(precision*recall)/(precision+recall+K.epsilon())\n",
    "    y_p = tf.argmax(y_pred,1)\n",
    "    y_t = tf.argmax(y_true,1)\n",
    "    return f1_score(y_t, y_p)"
   ]
  },
  {
   "cell_type": "code",
   "execution_count": 394,
   "metadata": {},
   "outputs": [],
   "source": [
    "class LossHistory(tf.keras.callbacks.Callback):\n",
    "    def __init__(self, model, validation_data_x, validation_data_y):\n",
    "        self.model = model\n",
    "        self.validation_data_x = validation_data_x\n",
    "        self.validation_data_y = validation_data_y        \n",
    "    \n",
    "    def on_train_begin(self, logs={}):\n",
    "        ## on begin of training, we are creating a instance varible called history\n",
    "        ## it is a dict with keys [loss, acc, val_loss, val_acc]\n",
    "        self.history={'loss': [], 'accuracy':[],'val_loss': [],'val_micro_f1': [], 'val_accuracy':[]}\n",
    "        \n",
    "    def on_epoch_end(self, epoch, logs={}):\n",
    "        ## on end of each epoch, we will get logs and update the self.history dict\n",
    "        val_predict = np.round(self.model.predict(self.validation_data_x))\n",
    "        _val_f1 = f1_score(self.validation_data_y, val_predict, average='micro')\n",
    "        logs['val_micro_f1'] = _val_f1\n",
    "        print(logs)\n",
    "        self.history['loss'].append(logs.get('loss'))\n",
    "        #self.history['micro_f1'].append(logs.get('micro_f1'))\n",
    "        self.history['accuracy'].append(logs.get('accuracy'))\n",
    "        if logs.get('val_loss', -1) != -1:\n",
    "            self.history['val_loss'].append(logs.get('val_loss'))\n",
    "        if logs.get('val_accuracy',-1) != -1:\n",
    "            self.history['val_accuracy'].append(logs.get('val_accuracy'))\n",
    "        if logs.get('val_micro_f1', -1) != -1:\n",
    "            self.history['val_micro_f1'].append(logs.get('val_micro_f1'))\n",
    "                     "
   ]
  },
  {
   "cell_type": "code",
   "execution_count": 382,
   "metadata": {},
   "outputs": [],
   "source": [
    "#Reference: https://github.com/tensorflow/tensorflow/blob/v2.3.1/tensorflow/python/keras/callbacks.py#L1215-L1221\n",
    "# -> https://www.codespeedy.com/get_weights-and-set_weights-functions-in-keras-layers/\n",
    "\n",
    "from tensorflow.keras.callbacks import EarlyStopping\n",
    "from tensorflow.keras.callbacks import LearningRateScheduler, ModelCheckpoint\n",
    "\n",
    "# Change in Learning rate \n",
    "def scheduler(epoch, lr):\n",
    "    loss = history_own.history.get('loss')\n",
    "    if len(loss) not in (0,1):\n",
    "        if loss[epoch-1] < loss[epoch-2]:\n",
    "            return lr*(1-0.1)\n",
    "        elif not epoch%3:\n",
    "            return lr * (1-0.05)**epoch\n",
    "        else:\n",
    "            return lr\n",
    "    else:\n",
    "        return lr\n",
    "\n",
    "#Terminate on nan values of loss and/or weights\n",
    "class TerminateNaN(tf.keras.callbacks.Callback):\n",
    "    \n",
    "    def on_epoch_end(self, epoch, logs={}):\n",
    "        loss = logs.get('loss')\n",
    "        if loss is not None:\n",
    "            if np.isnan(loss) or np.isinf(loss):\n",
    "                print(\"Invalid loss and terminated at epoch {}\".format(epoch))\n",
    "                self.model.stop_training = True\n",
    "        for layer in self.model.layers:\n",
    "            if len(layer.get_weights()) != 0:\n",
    "                weights = layer.get_weights()[0]\n",
    "                if np.isnan(weights).any() or np.isinf(weights).any():\n",
    "                    self.model.stop_training = True\n",
    "                "
   ]
  },
  {
   "cell_type": "code",
   "execution_count": 26,
   "metadata": {},
   "outputs": [],
   "source": [
    "import os , signal\n",
    "os.chdir(\"C:/Users/lokes/anaconda3\")\n",
    "logs_base_dir = \"./logs\"\n",
    "os.makedirs(logs_base_dir, exist_ok=True)"
   ]
  },
  {
   "cell_type": "code",
   "execution_count": 27,
   "metadata": {},
   "outputs": [],
   "source": [
    "%load_ext tensorboard"
   ]
  },
  {
   "cell_type": "code",
   "execution_count": 28,
   "metadata": {},
   "outputs": [],
   "source": [
    "embeddings_index = dict()\n",
    "f = open('M:/doc classification/glove.6B/glove.6B.100d.txt', encoding='utf-8')\n",
    "for line in f:\n",
    "    values = line.split()\n",
    "    word = values[0]\n",
    "    coefs = np.asarray(values[1:], dtype='float32')\n",
    "    embeddings_index[word] = coefs\n",
    "f.close()"
   ]
  },
  {
   "cell_type": "code",
   "execution_count": 315,
   "metadata": {},
   "outputs": [],
   "source": [
    "embedding_matrix = np.zeros((len(model_tokenizer.word_index)+1, 100))\n",
    "for word, i in model_tokenizer.word_index.items():\n",
    "    embedding_vector = embeddings_index.get(word)\n",
    "    if embedding_vector is not None:\n",
    "        embedding_matrix[i] = embedding_vector"
   ]
  },
  {
   "cell_type": "code",
   "execution_count": 511,
   "metadata": {
    "scrolled": false
   },
   "outputs": [
    {
     "name": "stdout",
     "output_type": "stream",
     "text": [
      "Model: \"functional_93\"\n",
      "__________________________________________________________________________________________________\n",
      "Layer (type)                    Output Shape         Param #     Connected to                     \n",
      "==================================================================================================\n",
      "input_48 (InputLayer)           [(None, 230)]        0                                            \n",
      "__________________________________________________________________________________________________\n",
      "embedding_47 (Embedding)        (None, 230, 100)     8857200     input_48[0][0]                   \n",
      "__________________________________________________________________________________________________\n",
      "conv1d_280 (Conv1D)             (None, 230, 32)      9632        embedding_47[0][0]               \n",
      "__________________________________________________________________________________________________\n",
      "conv1d_281 (Conv1D)             (None, 230, 32)      12832       embedding_47[0][0]               \n",
      "__________________________________________________________________________________________________\n",
      "conv1d_282 (Conv1D)             (None, 230, 32)      16032       embedding_47[0][0]               \n",
      "__________________________________________________________________________________________________\n",
      "concatenate_64 (Concatenate)    (None, 230, 96)      0           conv1d_280[0][0]                 \n",
      "                                                                 conv1d_281[0][0]                 \n",
      "                                                                 conv1d_282[0][0]                 \n",
      "__________________________________________________________________________________________________\n",
      "max_pooling1d_92 (MaxPooling1D) (None, 76, 96)       0           concatenate_64[0][0]             \n",
      "__________________________________________________________________________________________________\n",
      "conv1d_283 (Conv1D)             (None, 76, 32)       9248        max_pooling1d_92[0][0]           \n",
      "__________________________________________________________________________________________________\n",
      "conv1d_284 (Conv1D)             (None, 76, 32)       12320       max_pooling1d_92[0][0]           \n",
      "__________________________________________________________________________________________________\n",
      "conv1d_285 (Conv1D)             (None, 76, 32)       15392       max_pooling1d_92[0][0]           \n",
      "__________________________________________________________________________________________________\n",
      "concatenate_65 (Concatenate)    (None, 76, 96)       0           conv1d_283[0][0]                 \n",
      "                                                                 conv1d_284[0][0]                 \n",
      "                                                                 conv1d_285[0][0]                 \n",
      "__________________________________________________________________________________________________\n",
      "max_pooling1d_93 (MaxPooling1D) (None, 25, 96)       0           concatenate_65[0][0]             \n",
      "__________________________________________________________________________________________________\n",
      "conv1d_286 (Conv1D)             (None, 25, 16)       7696        max_pooling1d_93[0][0]           \n",
      "__________________________________________________________________________________________________\n",
      "flatten_46 (Flatten)            (None, 400)          0           conv1d_286[0][0]                 \n",
      "__________________________________________________________________________________________________\n",
      "dropout_46 (Dropout)            (None, 400)          0           flatten_46[0][0]                 \n",
      "__________________________________________________________________________________________________\n",
      "dense_92 (Dense)                (None, 8)            3208        dropout_46[0][0]                 \n",
      "__________________________________________________________________________________________________\n",
      "dense_93 (Dense)                (None, 20)           180         dense_92[0][0]                   \n",
      "==================================================================================================\n",
      "Total params: 8,943,740\n",
      "Trainable params: 86,540\n",
      "Non-trainable params: 8,857,200\n",
      "__________________________________________________________________________________________________\n",
      "None\n"
     ]
    },
    {
     "data": {
      "image/png": "[encoded data removed]",
      "text/plain": [
       "<IPython.core.display.Image object>"
      ]
     },
     "execution_count": 511,
     "metadata": {},
     "output_type": "execute_result"
    }
   ],
   "source": [
    "inputLayer = Input(shape=(230,))\n",
    "embeddingLayer = Embedding(len(model_tokenizer.word_index)+1, output_dim= 100, input_length =230, weights=[embedding_matrix], trainable=False)(inputLayer)\n",
    "conv1D_filter1 = Conv1D(filters=32, kernel_size =3, padding='same', activation='relu', kernel_initializer=tf.keras.initializers.he_uniform())(embeddingLayer)\n",
    "conv1D_filter2 = Conv1D(filters=32, kernel_size =4, padding='same', activation='relu', kernel_initializer=tf.keras.initializers.he_uniform())(embeddingLayer)\n",
    "conv1D_filter3 = Conv1D(filters=32, kernel_size =5, padding='same', activation='relu', kernel_initializer=tf.keras.initializers.he_uniform())(embeddingLayer)\n",
    "concatenate1 = concatenate([conv1D_filter1,conv1D_filter2,conv1D_filter3])\n",
    "maxpool1 = MaxPool1D(3)(concatenate1)\n",
    "\n",
    "conv1D_filter4 = Conv1D(filters=32, kernel_size =3, padding='same', activation='relu', kernel_initializer=tf.keras.initializers.he_uniform())(maxpool1)\n",
    "conv1D_filter5 = Conv1D(filters=32, kernel_size =4, padding='same', activation='relu', kernel_initializer=tf.keras.initializers.he_uniform())(maxpool1)\n",
    "conv1D_filter6 = Conv1D(filters=32, kernel_size =5, padding='same', activation='relu', kernel_initializer=tf.keras.initializers.he_uniform())(maxpool1)\n",
    "concatenate2 = concatenate([conv1D_filter4,conv1D_filter5,conv1D_filter6])\n",
    "maxpool2 = MaxPool1D(3)(concatenate2)\n",
    "\n",
    "conv1D_filter7 = Conv1D(filters=16, kernel_size =5, padding='same', activation='relu', kernel_initializer=tf.keras.initializers.he_uniform())(maxpool2)\n",
    "flatten1 = Flatten()(conv1D_filter7)\n",
    "\n",
    "dropoutLayer = Dropout(0.2)(flatten1)\n",
    "DenseLayer = Dense(8,activation='relu',kernel_initializer=tf.keras.initializers.he_uniform())(dropoutLayer)\n",
    "outputLayer = Dense(20,activation='softmax',kernel_initializer=tf.keras.initializers.he_uniform())(DenseLayer)\n",
    "\n",
    "model1 = Model(inputs=inputLayer, outputs=outputLayer)\n",
    "print(model1.summary())\n",
    "\n",
    "# plot graph\n",
    "plot_model(model1, to_file='model_1.png')"
   ]
  },
  {
   "cell_type": "code",
   "execution_count": 512,
   "metadata": {},
   "outputs": [
    {
     "name": "stdout",
     "output_type": "stream",
     "text": [
      "WARNING:tensorflow:`write_grads` will be ignored in TensorFlow 2.0 for the `TensorBoard` Callback.\n"
     ]
    }
   ],
   "source": [
    "#history_own = LossHistory()\n",
    "\n",
    "# Stops when val_loss is not improved for 4 consecutive epochs\n",
    "earlystop = EarlyStopping(monitor='val_loss', patience=4)\n",
    "\n",
    "learningRate = LearningRateScheduler(scheduler, verbose=1)\n",
    "\n",
    "termnateFun = TerminateNaN()\n",
    "\n",
    "# Save model if its better than previous epoch\n",
    "filepath=\"model_save/best_model_1-{epoch:02d}-{val_accuracy:.4f}.hdf5\"\n",
    "checkpoint = ModelCheckpoint(filepath=filepath, monitor='val_accuracy',  verbose=1, save_best_only=True, mode='max')\n",
    "\n",
    "log_dir = os.path.join(logs_base_dir, datetime.datetime.now().strftime(\"%Y%m%d-%H%M%S\"))\n",
    "tensorboard_callback = tf.keras.callbacks.TensorBoard(log_dir=log_dir,histogram_freq=1, write_graph=True,write_grads=True)"
   ]
  },
  {
   "cell_type": "code",
   "execution_count": 513,
   "metadata": {
    "scrolled": false
   },
   "outputs": [
    {
     "name": "stdout",
     "output_type": "stream",
     "text": [
      "Epoch 1/25\n",
      " 2/71 [..............................] - ETA: 24s - loss: 3.2392 - accuracy: 0.0650WARNING:tensorflow:Callbacks method `on_train_batch_end` is slow compared to the batch time (batch time: 0.1247s vs `on_train_batch_end` time: 0.5781s). Check your callbacks.\n",
      "71/71 [==============================] - ETA: 0s - loss: 2.9999 - accuracy: 0.0557{'loss': 2.9999332427978516, 'accuracy': 0.05566177889704704, 'val_loss': 2.978943109512329, 'val_accuracy': 0.0652928277850151, 'val_micro_f1': 0.0}\n",
      "\n",
      "Epoch 00001: val_accuracy improved from -inf to 0.06529, saving model to model_save\\best_model_1-01-0.0653.hdf5\n",
      "71/71 [==============================] - 15s 207ms/step - loss: 2.9999 - accuracy: 0.0557 - val_loss: 2.9789 - val_accuracy: 0.0653\n",
      "Epoch 2/25\n",
      "71/71 [==============================] - ETA: 0s - loss: 2.9545 - accuracy: 0.0749{'loss': 2.9545042514801025, 'accuracy': 0.07492387294769287, 'val_loss': 2.884012460708618, 'val_accuracy': 0.09383188188076019, 'val_micro_f1': 0.0}\n",
      "\n",
      "Epoch 00002: val_accuracy improved from 0.06529 to 0.09383, saving model to model_save\\best_model_1-02-0.0938.hdf5\n",
      "71/71 [==============================] - 14s 203ms/step - loss: 2.9545 - accuracy: 0.0749 - val_loss: 2.8840 - val_accuracy: 0.0938\n",
      "Epoch 3/25\n",
      "71/71 [==============================] - ETA: 0s - loss: 2.8250 - accuracy: 0.0985{'loss': 2.8249690532684326, 'accuracy': 0.09850577265024185, 'val_loss': 2.693650484085083, 'val_accuracy': 0.12414135038852692, 'val_micro_f1': 0.0005663315871442731}\n",
      "\n",
      "Epoch 00003: val_accuracy improved from 0.09383 to 0.12414, saving model to model_save\\best_model_1-03-0.1241.hdf5\n",
      "71/71 [==============================] - 14s 195ms/step - loss: 2.8250 - accuracy: 0.0985 - val_loss: 2.6937 - val_accuracy: 0.1241\n",
      "Epoch 4/25\n",
      "71/71 [==============================] - ETA: 0s - loss: 2.6538 - accuracy: 0.1295{'loss': 2.653808832168579, 'accuracy': 0.1295234113931656, 'val_loss': 2.5257174968719482, 'val_accuracy': 0.15898308157920837, 'val_micro_f1': 0.0}\n",
      "\n",
      "Epoch 00004: val_accuracy improved from 0.12414 to 0.15898, saving model to model_save\\best_model_1-04-0.1590.hdf5\n",
      "71/71 [==============================] - 15s 207ms/step - loss: 2.6538 - accuracy: 0.1295 - val_loss: 2.5257 - val_accuracy: 0.1590\n",
      "Epoch 5/25\n",
      "71/71 [==============================] - ETA: 0s - loss: 2.5000 - accuracy: 0.1625{'loss': 2.500009775161743, 'accuracy': 0.16252389550209045, 'val_loss': 2.360887289047241, 'val_accuracy': 0.19226683676242828, 'val_micro_f1': 0.0011323425336164192}\n",
      "\n",
      "Epoch 00005: val_accuracy improved from 0.15898 to 0.19227, saving model to model_save\\best_model_1-05-0.1923.hdf5\n",
      "71/71 [==============================] - 14s 198ms/step - loss: 2.5000 - accuracy: 0.1625 - val_loss: 2.3609 - val_accuracy: 0.1923\n",
      "Epoch 6/25\n",
      "71/71 [==============================] - ETA: 0s - loss: 2.3593 - accuracy: 0.1914{'loss': 2.359276533126831, 'accuracy': 0.19141703844070435, 'val_loss': 2.2808785438537598, 'val_accuracy': 0.20409318804740906, 'val_micro_f1': 0.032637884734558975}\n",
      "\n",
      "Epoch 00006: val_accuracy improved from 0.19227 to 0.20409, saving model to model_save\\best_model_1-06-0.2041.hdf5\n",
      "71/71 [==============================] - 14s 194ms/step - loss: 2.3593 - accuracy: 0.1914 - val_loss: 2.2809 - val_accuracy: 0.2041\n",
      "Epoch 7/25\n",
      "71/71 [==============================] - ETA: 0s - loss: 2.3186 - accuracy: 0.2063{'loss': 2.3185770511627197, 'accuracy': 0.20628850162029266, 'val_loss': 2.1154603958129883, 'val_accuracy': 0.27143970131874084, 'val_micro_f1': 0.08056778602878359}\n",
      "\n",
      "Epoch 00007: val_accuracy improved from 0.20409 to 0.27144, saving model to model_save\\best_model_1-07-0.2714.hdf5\n",
      "71/71 [==============================] - 14s 195ms/step - loss: 2.3186 - accuracy: 0.2063 - val_loss: 2.1155 - val_accuracy: 0.2714\n",
      "Epoch 8/25\n",
      "71/71 [==============================] - ETA: 0s - loss: 2.1167 - accuracy: 0.2714{'loss': 2.1167190074920654, 'accuracy': 0.27143970131874084, 'val_loss': 1.90187406539917, 'val_accuracy': 0.33637845516204834, 'val_micro_f1': 0.1236182876577932}\n",
      "\n",
      "Epoch 00008: val_accuracy improved from 0.27144 to 0.33638, saving model to model_save\\best_model_1-08-0.3364.hdf5\n",
      "71/71 [==============================] - 14s 196ms/step - loss: 2.1167 - accuracy: 0.2714 - val_loss: 1.9019 - val_accuracy: 0.3364\n",
      "Epoch 9/25\n",
      "71/71 [==============================] - ETA: 0s - loss: 1.9174 - accuracy: 0.3187{'loss': 1.9174376726150513, 'accuracy': 0.31874513626098633, 'val_loss': 1.730708122253418, 'val_accuracy': 0.38623327016830444, 'val_micro_f1': 0.20280276604858946}\n",
      "\n",
      "Epoch 00009: val_accuracy improved from 0.33638 to 0.38623, saving model to model_save\\best_model_1-09-0.3862.hdf5\n",
      "71/71 [==============================] - 14s 193ms/step - loss: 1.9174 - accuracy: 0.3187 - val_loss: 1.7307 - val_accuracy: 0.3862\n",
      "Epoch 10/25\n",
      "71/71 [==============================] - ETA: 0s - loss: 1.7279 - accuracy: 0.3807{'loss': 1.7279071807861328, 'accuracy': 0.38070958852767944, 'val_loss': 1.6038528680801392, 'val_accuracy': 0.4299270510673523, 'val_micro_f1': 0.30633547306726205}\n",
      "\n",
      "Epoch 00010: val_accuracy improved from 0.38623 to 0.42993, saving model to model_save\\best_model_1-10-0.4299.hdf5\n",
      "71/71 [==============================] - 14s 194ms/step - loss: 1.7279 - accuracy: 0.3807 - val_loss: 1.6039 - val_accuracy: 0.4299\n",
      "Epoch 11/25\n",
      "71/71 [==============================] - ETA: 0s - loss: 1.5640 - accuracy: 0.4375{'loss': 1.5639729499816895, 'accuracy': 0.43750444054603577, 'val_loss': 1.3530346155166626, 'val_accuracy': 0.518376886844635, 'val_micro_f1': 0.4128677994198094}\n",
      "\n",
      "Epoch 00011: val_accuracy improved from 0.42993 to 0.51838, saving model to model_save\\best_model_1-11-0.5184.hdf5\n",
      "71/71 [==============================] - 14s 194ms/step - loss: 1.5640 - accuracy: 0.4375 - val_loss: 1.3530 - val_accuracy: 0.5184\n",
      "Epoch 12/25\n",
      "71/71 [==============================] - ETA: 0s - loss: 1.4289 - accuracy: 0.4877{'loss': 1.4289131164550781, 'accuracy': 0.4877133369445801, 'val_loss': 1.2648704051971436, 'val_accuracy': 0.5640535354614258, 'val_micro_f1': 0.4262104036444539}\n",
      "\n",
      "Epoch 00012: val_accuracy improved from 0.51838 to 0.56405, saving model to model_save\\best_model_1-12-0.5641.hdf5\n",
      "71/71 [==============================] - 14s 194ms/step - loss: 1.4289 - accuracy: 0.4877 - val_loss: 1.2649 - val_accuracy: 0.5641\n",
      "Epoch 13/25\n",
      "71/71 [==============================] - ETA: 0s - loss: 1.3150 - accuracy: 0.5339{'loss': 1.315038800239563, 'accuracy': 0.5338857173919678, 'val_loss': 1.236329197883606, 'val_accuracy': 0.5560512542724609, 'val_micro_f1': 0.48659754407759565}\n",
      "\n",
      "Epoch 00013: val_accuracy did not improve from 0.56405\n",
      "71/71 [==============================] - 14s 193ms/step - loss: 1.3150 - accuracy: 0.5339 - val_loss: 1.2363 - val_accuracy: 0.5561\n",
      "Epoch 14/25\n",
      "71/71 [==============================] - ETA: 0s - loss: 1.2624 - accuracy: 0.5483{'loss': 1.2624030113220215, 'accuracy': 0.5482614636421204, 'val_loss': 1.0640554428100586, 'val_accuracy': 0.6293463706970215, 'val_micro_f1': 0.5418127671838224}\n",
      "\n",
      "Epoch 00014: val_accuracy improved from 0.56405 to 0.62935, saving model to model_save\\best_model_1-14-0.6293.hdf5\n",
      "71/71 [==============================] - 14s 194ms/step - loss: 1.2624 - accuracy: 0.5483 - val_loss: 1.0641 - val_accuracy: 0.6293\n",
      "Epoch 15/25\n",
      "71/71 [==============================] - ETA: 0s - loss: 1.1471 - accuracy: 0.5901{'loss': 1.1470558643341064, 'accuracy': 0.5901139974594116, 'val_loss': 1.0675586462020874, 'val_accuracy': 0.6224063634872437, 'val_micro_f1': 0.5625200900032145}\n",
      "\n",
      "Epoch 00015: val_accuracy did not improve from 0.62935\n",
      "71/71 [==============================] - 14s 193ms/step - loss: 1.1471 - accuracy: 0.5901 - val_loss: 1.0676 - val_accuracy: 0.6224\n",
      "Epoch 16/25\n",
      "71/71 [==============================] - ETA: 0s - loss: 1.0872 - accuracy: 0.6065{'loss': 1.0871689319610596, 'accuracy': 0.6065434217453003, 'val_loss': 0.9447454810142517, 'val_accuracy': 0.6672331690788269, 'val_micro_f1': 0.6190752218308289}\n",
      "\n",
      "Epoch 00016: val_accuracy improved from 0.62935 to 0.66723, saving model to model_save\\best_model_1-16-0.6672.hdf5\n",
      "71/71 [==============================] - 14s 196ms/step - loss: 1.0872 - accuracy: 0.6065 - val_loss: 0.9447 - val_accuracy: 0.6672\n"
     ]
    },
    {
     "name": "stdout",
     "output_type": "stream",
     "text": [
      "Epoch 17/25\n",
      "71/71 [==============================] - ETA: 0s - loss: 1.0405 - accuracy: 0.6255{'loss': 1.040536880493164, 'accuracy': 0.625522255897522, 'val_loss': 0.9565848708152771, 'val_accuracy': 0.6479710936546326, 'val_micro_f1': 0.6170931916948333}\n",
      "\n",
      "Epoch 00017: val_accuracy did not improve from 0.66723\n",
      "71/71 [==============================] - 14s 193ms/step - loss: 1.0405 - accuracy: 0.6255 - val_loss: 0.9566 - val_accuracy: 0.6480\n",
      "Epoch 18/25\n",
      "71/71 [==============================] - ETA: 0s - loss: 0.9675 - accuracy: 0.6497{'loss': 0.9674874544143677, 'accuracy': 0.6496707201004028, 'val_loss': 0.8591806292533875, 'val_accuracy': 0.6924439072608948, 'val_micro_f1': 0.6525445846020008}\n",
      "\n",
      "Epoch 00018: val_accuracy improved from 0.66723 to 0.69244, saving model to model_save\\best_model_1-18-0.6924.hdf5\n",
      "71/71 [==============================] - 14s 192ms/step - loss: 0.9675 - accuracy: 0.6497 - val_loss: 0.8592 - val_accuracy: 0.6924\n",
      "Epoch 19/25\n",
      "71/71 [==============================] - ETA: 0s - loss: 0.9023 - accuracy: 0.6734{'loss': 0.9022698998451233, 'accuracy': 0.6733942627906799, 'val_loss': 0.8377403020858765, 'val_accuracy': 0.6838750839233398, 'val_micro_f1': 0.6554470709146969}\n",
      "\n",
      "Epoch 00019: val_accuracy did not improve from 0.69244\n",
      "71/71 [==============================] - 14s 192ms/step - loss: 0.9023 - accuracy: 0.6734 - val_loss: 0.8377 - val_accuracy: 0.6839\n",
      "Epoch 20/25\n",
      "71/71 [==============================] - ETA: 0s - loss: 0.8570 - accuracy: 0.6915{'loss': 0.8569797277450562, 'accuracy': 0.6914524435997009, 'val_loss': 0.7386798858642578, 'val_accuracy': 0.7350046038627625, 'val_micro_f1': 0.703013397574067}\n",
      "\n",
      "Epoch 00020: val_accuracy improved from 0.69244 to 0.73500, saving model to model_save\\best_model_1-20-0.7350.hdf5\n",
      "71/71 [==============================] - 14s 193ms/step - loss: 0.8570 - accuracy: 0.6915 - val_loss: 0.7387 - val_accuracy: 0.7350\n",
      "Epoch 21/25\n",
      "71/71 [==============================] - ETA: 0s - loss: 0.8278 - accuracy: 0.6961{'loss': 0.8278325796127319, 'accuracy': 0.6961263418197632, 'val_loss': 0.7239238023757935, 'val_accuracy': 0.7312512993812561, 'val_micro_f1': 0.7151446213844653}\n",
      "\n",
      "Epoch 00021: val_accuracy did not improve from 0.73500\n",
      "71/71 [==============================] - 14s 192ms/step - loss: 0.8278 - accuracy: 0.6961 - val_loss: 0.7239 - val_accuracy: 0.7313\n",
      "Epoch 22/25\n",
      "71/71 [==============================] - ETA: 0s - loss: 0.7812 - accuracy: 0.7139{'loss': 0.7811964154243469, 'accuracy': 0.7139012813568115, 'val_loss': 0.6897927522659302, 'val_accuracy': 0.7506550550460815, 'val_micro_f1': 0.7290357040141336}\n",
      "\n",
      "Epoch 00022: val_accuracy improved from 0.73500 to 0.75066, saving model to model_save\\best_model_1-22-0.7507.hdf5\n",
      "71/71 [==============================] - 14s 194ms/step - loss: 0.7812 - accuracy: 0.7139 - val_loss: 0.6898 - val_accuracy: 0.7507\n",
      "Epoch 23/25\n",
      "71/71 [==============================] - ETA: 0s - loss: 0.7147 - accuracy: 0.7438{'loss': 0.7147268652915955, 'accuracy': 0.7437858581542969, 'val_loss': 0.6660718321800232, 'val_accuracy': 0.7609942555427551, 'val_micro_f1': 0.7414143054315173}\n",
      "\n",
      "Epoch 00023: val_accuracy improved from 0.75066 to 0.76099, saving model to model_save\\best_model_1-23-0.7610.hdf5\n",
      "71/71 [==============================] - 14s 193ms/step - loss: 0.7147 - accuracy: 0.7438 - val_loss: 0.6661 - val_accuracy: 0.7610\n",
      "Epoch 24/25\n",
      "71/71 [==============================] - ETA: 0s - loss: 0.6759 - accuracy: 0.7564{'loss': 0.6759369969367981, 'accuracy': 0.756391167640686, 'val_loss': 0.5624441504478455, 'val_accuracy': 0.8081580400466919, 'val_micro_f1': 0.7845804988662131}\n",
      "\n",
      "Epoch 00024: val_accuracy improved from 0.76099 to 0.80816, saving model to model_save\\best_model_1-24-0.8082.hdf5\n",
      "71/71 [==============================] - 14s 193ms/step - loss: 0.6759 - accuracy: 0.7564 - val_loss: 0.5624 - val_accuracy: 0.8082\n",
      "Epoch 25/25\n",
      "71/71 [==============================] - ETA: 0s - loss: 0.6473 - accuracy: 0.7685{'loss': 0.6473155617713928, 'accuracy': 0.768500804901123, 'val_loss': 0.5162378549575806, 'val_accuracy': 0.821896493434906, 'val_micro_f1': 0.8002984722931312}\n",
      "\n",
      "Epoch 00025: val_accuracy improved from 0.80816 to 0.82190, saving model to model_save\\best_model_1-25-0.8219.hdf5\n",
      "71/71 [==============================] - 14s 194ms/step - loss: 0.6473 - accuracy: 0.7685 - val_loss: 0.5162 - val_accuracy: 0.8219\n"
     ]
    },
    {
     "data": {
      "text/plain": [
       "<tensorflow.python.keras.callbacks.History at 0x1a053ff95b0>"
      ]
     },
     "execution_count": 513,
     "metadata": {},
     "output_type": "execute_result"
    }
   ],
   "source": [
    "history_own = LossHistory(model1,truncated_train,y_train )\n",
    "optimizer = tf.keras.optimizers.SGD(learning_rate=0.02, momentum=0.8)\n",
    "\n",
    "model1.compile(optimizer=optimizer, loss='categorical_crossentropy',metrics=['accuracy'])\n",
    "\n",
    "model1.fit(truncated_train,y_train,epochs=25, validation_data=(truncated_train,y_train), batch_size=200, callbacks=[history_own,earlystop,checkpoint, tensorboard_callback])"
   ]
  },
  {
   "cell_type": "code",
   "execution_count": 522,
   "metadata": {
    "scrolled": false
   },
   "outputs": [
    {
     "data": {
      "text/plain": [
       "Reusing TensorBoard on port 6006 (pid 14688), started 0:01:53 ago. (Use '!kill 14688' to kill it.)"
      ]
     },
     "metadata": {},
     "output_type": "display_data"
    },
    {
     "data": {
      "text/html": [
       "\n",
       "      <iframe id=\"tensorboard-frame-ae2c705608126994\" width=\"100%\" height=\"800\" frameborder=\"0\">\n",
       "      </iframe>\n",
       "      <script>\n",
       "        (function() {\n",
       "          const frame = document.getElementById(\"tensorboard-frame-ae2c705608126994\");\n",
       "          const url = new URL(\"/\", window.location);\n",
       "          const port = 6006;\n",
       "          if (port) {\n",
       "            url.port = port;\n",
       "          }\n",
       "          frame.src = url;\n",
       "        })();\n",
       "      </script>\n",
       "    "
      ],
      "text/plain": [
       "<IPython.core.display.HTML object>"
      ]
     },
     "metadata": {},
     "output_type": "display_data"
    }
   ],
   "source": [
    "logs_base_dir = \"./logs\"\n",
    "os.makedirs(logs_base_dir, exist_ok=True)\n",
    "%tensorboard --logdir {logs_base_dir}"
   ]
  },
  {
   "cell_type": "code",
   "execution_count": 514,
   "metadata": {},
   "outputs": [
    {
     "data": {
      "text/plain": [
       "{'loss': [2.9999332427978516,\n",
       "  2.9545042514801025,\n",
       "  2.8249690532684326,\n",
       "  2.653808832168579,\n",
       "  2.500009775161743,\n",
       "  2.359276533126831,\n",
       "  2.3185770511627197,\n",
       "  2.1167190074920654,\n",
       "  1.9174376726150513,\n",
       "  1.7279071807861328,\n",
       "  1.5639729499816895,\n",
       "  1.4289131164550781,\n",
       "  1.315038800239563,\n",
       "  1.2624030113220215,\n",
       "  1.1470558643341064,\n",
       "  1.0871689319610596,\n",
       "  1.040536880493164,\n",
       "  0.9674874544143677,\n",
       "  0.9022698998451233,\n",
       "  0.8569797277450562,\n",
       "  0.8278325796127319,\n",
       "  0.7811964154243469,\n",
       "  0.7147268652915955,\n",
       "  0.6759369969367981,\n",
       "  0.6473155617713928],\n",
       " 'accuracy': [0.05566177889704704,\n",
       "  0.07492387294769287,\n",
       "  0.09850577265024185,\n",
       "  0.1295234113931656,\n",
       "  0.16252389550209045,\n",
       "  0.19141703844070435,\n",
       "  0.20628850162029266,\n",
       "  0.27143970131874084,\n",
       "  0.31874513626098633,\n",
       "  0.38070958852767944,\n",
       "  0.43750444054603577,\n",
       "  0.4877133369445801,\n",
       "  0.5338857173919678,\n",
       "  0.5482614636421204,\n",
       "  0.5901139974594116,\n",
       "  0.6065434217453003,\n",
       "  0.625522255897522,\n",
       "  0.6496707201004028,\n",
       "  0.6733942627906799,\n",
       "  0.6914524435997009,\n",
       "  0.6961263418197632,\n",
       "  0.7139012813568115,\n",
       "  0.7437858581542969,\n",
       "  0.756391167640686,\n",
       "  0.768500804901123],\n",
       " 'val_loss': [2.978943109512329,\n",
       "  2.884012460708618,\n",
       "  2.693650484085083,\n",
       "  2.5257174968719482,\n",
       "  2.360887289047241,\n",
       "  2.2808785438537598,\n",
       "  2.1154603958129883,\n",
       "  1.90187406539917,\n",
       "  1.730708122253418,\n",
       "  1.6038528680801392,\n",
       "  1.3530346155166626,\n",
       "  1.2648704051971436,\n",
       "  1.236329197883606,\n",
       "  1.0640554428100586,\n",
       "  1.0675586462020874,\n",
       "  0.9447454810142517,\n",
       "  0.9565848708152771,\n",
       "  0.8591806292533875,\n",
       "  0.8377403020858765,\n",
       "  0.7386798858642578,\n",
       "  0.7239238023757935,\n",
       "  0.6897927522659302,\n",
       "  0.6660718321800232,\n",
       "  0.5624441504478455,\n",
       "  0.5162378549575806],\n",
       " 'val_micro_f1': [0.0,\n",
       "  0.0,\n",
       "  0.0005663315871442731,\n",
       "  0.0,\n",
       "  0.0011323425336164192,\n",
       "  0.032637884734558975,\n",
       "  0.08056778602878359,\n",
       "  0.1236182876577932,\n",
       "  0.20280276604858946,\n",
       "  0.30633547306726205,\n",
       "  0.4128677994198094,\n",
       "  0.4262104036444539,\n",
       "  0.48659754407759565,\n",
       "  0.5418127671838224,\n",
       "  0.5625200900032145,\n",
       "  0.6190752218308289,\n",
       "  0.6170931916948333,\n",
       "  0.6525445846020008,\n",
       "  0.6554470709146969,\n",
       "  0.703013397574067,\n",
       "  0.7151446213844653,\n",
       "  0.7290357040141336,\n",
       "  0.7414143054315173,\n",
       "  0.7845804988662131,\n",
       "  0.8002984722931312],\n",
       " 'val_accuracy': [0.0652928277850151,\n",
       "  0.09383188188076019,\n",
       "  0.12414135038852692,\n",
       "  0.15898308157920837,\n",
       "  0.19226683676242828,\n",
       "  0.20409318804740906,\n",
       "  0.27143970131874084,\n",
       "  0.33637845516204834,\n",
       "  0.38623327016830444,\n",
       "  0.4299270510673523,\n",
       "  0.518376886844635,\n",
       "  0.5640535354614258,\n",
       "  0.5560512542724609,\n",
       "  0.6293463706970215,\n",
       "  0.6224063634872437,\n",
       "  0.6672331690788269,\n",
       "  0.6479710936546326,\n",
       "  0.6924439072608948,\n",
       "  0.6838750839233398,\n",
       "  0.7350046038627625,\n",
       "  0.7312512993812561,\n",
       "  0.7506550550460815,\n",
       "  0.7609942555427551,\n",
       "  0.8081580400466919,\n",
       "  0.821896493434906]}"
      ]
     },
     "execution_count": 514,
     "metadata": {},
     "output_type": "execute_result"
    }
   ],
   "source": [
    "history_own.history"
   ]
  },
  {
   "cell_type": "code",
   "execution_count": 515,
   "metadata": {},
   "outputs": [
    {
     "name": "stdout",
     "output_type": "stream",
     "text": [
      "148/148 [==============================] - 1s 6ms/step - loss: 1.1530 - accuracy: 0.6467\n"
     ]
    }
   ],
   "source": [
    "results_1 = model1.evaluate(truncated_test,y_test)"
   ]
  },
  {
   "cell_type": "code",
   "execution_count": 516,
   "metadata": {},
   "outputs": [
    {
     "data": {
      "text/plain": [
       "[1.152989149093628, 0.6466963887214661]"
      ]
     },
     "execution_count": 516,
     "metadata": {},
     "output_type": "execute_result"
    }
   ],
   "source": [
    "results_1"
   ]
  },
  {
   "cell_type": "code",
   "execution_count": 517,
   "metadata": {},
   "outputs": [],
   "source": [
    "pred_y_test = np.round(model1.predict(truncated_test))\n",
    "model1_f1 = f1_score(y_test, pred_y_test, average='micro')"
   ]
  },
  {
   "cell_type": "code",
   "execution_count": 520,
   "metadata": {},
   "outputs": [
    {
     "data": {
      "text/plain": [
       "0.6432062561094819"
      ]
     },
     "execution_count": 520,
     "metadata": {},
     "output_type": "execute_result"
    }
   ],
   "source": [
    "model1_f1"
   ]
  },
  {
   "cell_type": "markdown",
   "metadata": {
    "colab_type": "text",
    "id": "9cg4L1V4Yv1d"
   },
   "source": [
    "### Training Model-2 : Using 1D convolutions with character embedding\n",
    "\n",
    "<pre>\n",
    "-> Tokenising using character embedding\n",
    "</pre>"
   ]
  },
  {
   "cell_type": "code",
   "execution_count": 110,
   "metadata": {},
   "outputs": [],
   "source": [
    "chars = list('abcdefghijklmnopqrstuvwxyz-')"
   ]
  },
  {
   "cell_type": "code",
   "execution_count": 227,
   "metadata": {},
   "outputs": [],
   "source": [
    "char_indices = dict((c, i+1) for i, c in enumerate(chars))\n",
    "indices_char = dict((i, c) for i, c in enumerate(chars))"
   ]
  },
  {
   "cell_type": "code",
   "execution_count": 221,
   "metadata": {},
   "outputs": [
    {
     "data": {
      "text/plain": [
       "array([[1., 0., 0., ..., 0., 0., 0.],\n",
       "       [1., 0., 0., ..., 0., 0., 0.],\n",
       "       [1., 0., 0., ..., 0., 0., 0.],\n",
       "       ...,\n",
       "       [0., 0., 0., ..., 0., 0., 1.],\n",
       "       [0., 0., 0., ..., 0., 0., 1.],\n",
       "       [0., 0., 0., ..., 0., 0., 1.]], dtype=float32)"
      ]
     },
     "execution_count": 221,
     "metadata": {},
     "output_type": "execute_result"
    }
   ],
   "source": [
    "y_classes"
   ]
  },
  {
   "cell_type": "code",
   "execution_count": 222,
   "metadata": {},
   "outputs": [
    {
     "name": "stdout",
     "output_type": "stream",
     "text": [
      "(14121, 1) -------- (4707, 1)\n"
     ]
    }
   ],
   "source": [
    "X_train_char, X_test_char, y_train_char, y_test_char = train_test_split(combined_data_df, y_classes , test_size=0.25, random_state=45, stratify = y)\n",
    "\n",
    "print(X_train_char.shape,'--------', X_test_char.shape)"
   ]
  },
  {
   "cell_type": "code",
   "execution_count": 224,
   "metadata": {},
   "outputs": [],
   "source": [
    "model_char_tokenizer = Tokenizer(filters='!\"#$%&()*+,-./:;<=>?@[\\\\]^`{|}~\\t\\n', char_level=True)\n",
    "model_char_tokenizer.fit_on_texts(X_train_char['combined_data'])"
   ]
  },
  {
   "cell_type": "code",
   "execution_count": 229,
   "metadata": {},
   "outputs": [],
   "source": [
    "model_char_tokenizer.word_index = char_indices.copy()"
   ]
  },
  {
   "cell_type": "code",
   "execution_count": 230,
   "metadata": {},
   "outputs": [],
   "source": [
    "tokenized_char_train = model_char_tokenizer.texts_to_sequences(X_train_char['combined_data'])\n",
    "tokenized_char_test = model_char_tokenizer.texts_to_sequences(X_test_char['combined_data'])"
   ]
  },
  {
   "cell_type": "code",
   "execution_count": 234,
   "metadata": {},
   "outputs": [],
   "source": [
    "char_data_length = []\n",
    "for i in range(len(tokenized_char_train)):\n",
    "    char_data_length.append(len(tokenized_char_train[i]))"
   ]
  },
  {
   "cell_type": "code",
   "execution_count": 237,
   "metadata": {},
   "outputs": [
    {
     "data": {
      "text/plain": [
       "1184.0"
      ]
     },
     "execution_count": 237,
     "metadata": {},
     "output_type": "execute_result"
    }
   ],
   "source": [
    "np.percentile(char_data_length,80)"
   ]
  },
  {
   "cell_type": "code",
   "execution_count": 239,
   "metadata": {},
   "outputs": [],
   "source": [
    "truncated_char_train= pad_sequences(tokenized_char_train, maxlen=1184, padding='post')\n",
    "truncated_char_test= pad_sequences(tokenized_char_test, maxlen=1184, padding='post')"
   ]
  },
  {
   "cell_type": "code",
   "execution_count": 240,
   "metadata": {},
   "outputs": [],
   "source": [
    "truncated_char_train = np.array(truncated_char_train, dtype='float')\n",
    "truncated_char_test = np.array(truncated_char_test, dtype='float')"
   ]
  },
  {
   "cell_type": "code",
   "execution_count": 242,
   "metadata": {},
   "outputs": [
    {
     "name": "stdout",
     "output_type": "stream",
     "text": [
      "(14121, 1184) ------- (4707, 1184)\n"
     ]
    }
   ],
   "source": [
    "print(truncated_char_train.shape,'-------' ,truncated_char_test.shape)"
   ]
  },
  {
   "cell_type": "code",
   "execution_count": 187,
   "metadata": {},
   "outputs": [],
   "source": [
    "file_path = \"M:/doc classification/glove.6B/glove.6B.100d.txt\"\n",
    "\n",
    "vectors = {}\n",
    "i = 0\n",
    "with open(file_path, 'rb') as f:\n",
    "    for line in f:\n",
    "        line_split = str(line,'UTF-8').strip().split(\" \")\n",
    "        vec = np.array(list(map(float, line_split[1:])))\n",
    "        word = line_split[0]\n",
    "        i +=1\n",
    "\n",
    "        for char in word:\n",
    "            if ord(char) < 128:\n",
    "                if char in vectors:\n",
    "                    vectors[char] = (vectors[char][0] + vec,\n",
    "                                     vectors[char][1] + 1)\n",
    "                else:\n",
    "                    vectors[char] = (vec, 1)"
   ]
  },
  {
   "cell_type": "code",
   "execution_count": 191,
   "metadata": {},
   "outputs": [
    {
     "data": {
      "text/plain": [
       "dict_keys(['t', 'h', 'e', ',', '.', 'o', 'f', 'a', 'n', 'd', 'i', '\"', \"'\", 's', 'r', '-', 'w', 'b', 'y', '(', ')', 'm', '`', 'v', 'u', 'c', 'l', ':', 'p', 'g', '$', ';', '_', 'k', 'j', '1', 'x', '?', '0', '2', 'q', '%', '/', '3', '5', '4', '8', '6', '7', '9', '&', 'z', '!', '=', '#', '[', '+', '|', ']', '~', '\\\\', '{', '>', '}', '*', '@', '<', '^'])"
      ]
     },
     "execution_count": 191,
     "metadata": {},
     "output_type": "execute_result"
    }
   ],
   "source": [
    "vectors.keys()"
   ]
  },
  {
   "cell_type": "code",
   "execution_count": 195,
   "metadata": {},
   "outputs": [],
   "source": [
    "file_path2 = \"M:/doc classification/glove_char_vectors.txt\"\n",
    "with open(file_path2, 'w') as f2:\n",
    "    for word in vectors:\n",
    "        avg_vector = np.round(\n",
    "            (vectors[word][0] / vectors[word][1]), 6).tolist()\n",
    "        f2.write(word + \" \" + \" \".join(str(x) for x in avg_vector) + \"\\n\")"
   ]
  },
  {
   "cell_type": "code",
   "execution_count": 196,
   "metadata": {},
   "outputs": [],
   "source": [
    "embedding_char_vectors = {}\n",
    "with open(\"M:/doc classification/glove_char_vectors.txt\", 'r') as f:\n",
    "    for line in f:\n",
    "        line_split = line.strip().split(\" \")\n",
    "        vec = np.array(line_split[1:], dtype=float)\n",
    "        char = line_split[0]\n",
    "        embedding_char_vectors[char] = vec\n",
    "\n",
    "embedding_char_matrix = np.zeros((len(chars), 100))\n",
    "\n",
    "for char, i in char_indices.items():\n",
    "    embedding_char_vector = embedding_char_vectors.get(char)\n",
    "    if embedding_char_vector is not None:\n",
    "        embedding_char_matrix[i] = embedding_char_vector"
   ]
  },
  {
   "cell_type": "code",
   "execution_count": 531,
   "metadata": {},
   "outputs": [
    {
     "name": "stdout",
     "output_type": "stream",
     "text": [
      "Model: \"functional_99\"\n",
      "_________________________________________________________________\n",
      "Layer (type)                 Output Shape              Param #   \n",
      "=================================================================\n",
      "input_51 (InputLayer)        [(None, 1184)]            0         \n",
      "_________________________________________________________________\n",
      "embedding_50 (Embedding)     (None, 1184, 100)         2700      \n",
      "_________________________________________________________________\n",
      "conv1d_295 (Conv1D)          (None, 1184, 32)          16032     \n",
      "_________________________________________________________________\n",
      "conv1d_296 (Conv1D)          (None, 1184, 32)          5152      \n",
      "_________________________________________________________________\n",
      "max_pooling1d_98 (MaxPooling (None, 236, 32)           0         \n",
      "_________________________________________________________________\n",
      "conv1d_297 (Conv1D)          (None, 236, 16)           2576      \n",
      "_________________________________________________________________\n",
      "conv1d_298 (Conv1D)          (None, 236, 16)           1296      \n",
      "_________________________________________________________________\n",
      "max_pooling1d_99 (MaxPooling (None, 47, 16)            0         \n",
      "_________________________________________________________________\n",
      "flatten_49 (Flatten)         (None, 752)               0         \n",
      "_________________________________________________________________\n",
      "dropout_49 (Dropout)         (None, 752)               0         \n",
      "_________________________________________________________________\n",
      "dense_98 (Dense)             (None, 8)                 6024      \n",
      "_________________________________________________________________\n",
      "dense_99 (Dense)             (None, 20)                180       \n",
      "=================================================================\n",
      "Total params: 33,960\n",
      "Trainable params: 31,260\n",
      "Non-trainable params: 2,700\n",
      "_________________________________________________________________\n",
      "None\n"
     ]
    },
    {
     "data": {
      "image/png": "[encoded data removed]",
      "text/plain": [
       "<IPython.core.display.Image object>"
      ]
     },
     "execution_count": 531,
     "metadata": {},
     "output_type": "execute_result"
    }
   ],
   "source": [
    "inputLayer_2 = Input(shape=(1184,))\n",
    "embeddingLayer_2 = Embedding(len(chars), output_dim= 100, input_length =1184, weights=[embedding_char_matrix], trainable=False)(inputLayer_2)\n",
    "conv1D_filter1_2 = Conv1D(filters=32, kernel_size =5, padding='same', activation='relu', kernel_initializer=tf.keras.initializers.he_uniform())(embeddingLayer_2)\n",
    "conv1D_filter2_2 = Conv1D(filters=32, kernel_size =5, padding='same', activation='relu', kernel_initializer=tf.keras.initializers.he_uniform())(conv1D_filter1_2)\n",
    "maxpool1_2 = MaxPool1D(5)(conv1D_filter2_2)\n",
    "\n",
    "conv1D_filter3_2 = Conv1D(filters=16, kernel_size =5, padding='same', activation='relu', kernel_initializer=tf.keras.initializers.he_uniform())(maxpool1_2)\n",
    "conv1D_filter4_2 = Conv1D(filters=16, kernel_size =5, padding='same', activation='relu', kernel_initializer=tf.keras.initializers.he_uniform())(conv1D_filter3_2)\n",
    "maxpool2_2 = MaxPool1D(5)(conv1D_filter4_2)\n",
    "\n",
    "flatten1_2 = Flatten()(maxpool2_2)\n",
    "\n",
    "dropoutLayer_2 = Dropout(0.4)(flatten1_2)\n",
    "DenseLayer_2 = Dense(8,activation='relu',kernel_initializer=tf.keras.initializers.he_uniform())(dropoutLayer_2)\n",
    "outputLayer_2 = Dense(20,activation='sigmoid',kernel_initializer=tf.keras.initializers.he_uniform())(DenseLayer_2)\n",
    "\n",
    "model2 = Model(inputs=inputLayer_2, outputs=outputLayer_2)\n",
    "print(model2.summary())\n",
    "\n",
    "plot_model(model2, to_file='model_2.png')"
   ]
  },
  {
   "cell_type": "code",
   "execution_count": 532,
   "metadata": {},
   "outputs": [
    {
     "name": "stdout",
     "output_type": "stream",
     "text": [
      "WARNING:tensorflow:`write_grads` will be ignored in TensorFlow 2.0 for the `TensorBoard` Callback.\n"
     ]
    }
   ],
   "source": [
    "#history_own = LossHistory()\n",
    "\n",
    "# Stops when val_loss is not improved for 2 consecutive epochs\n",
    "earlystop = EarlyStopping(monitor='val_loss', patience=2)\n",
    "\n",
    "learningRate = LearningRateScheduler(scheduler, verbose=1)\n",
    "\n",
    "termnateFun = TerminateNaN()\n",
    "\n",
    "# Save model if its better than previous epoch\n",
    "filepath=\"model_save/best_model_2-{epoch:02d}-{val_accuracy:.4f}.hdf5\"\n",
    "checkpoint = ModelCheckpoint(filepath=filepath, monitor='val_accuracy',  verbose=1, save_best_only=True, mode='max')\n",
    "\n",
    "log_dir = os.path.join(logs_base_dir, datetime.datetime.now().strftime(\"%Y%m%d-%H%M%S\"))\n",
    "tensorboard_callback = tf.keras.callbacks.TensorBoard(log_dir=log_dir,histogram_freq=1, write_graph=True,write_grads=True)"
   ]
  },
  {
   "cell_type": "code",
   "execution_count": 533,
   "metadata": {
    "scrolled": false
   },
   "outputs": [
    {
     "name": "stdout",
     "output_type": "stream",
     "text": [
      "\n",
      "Epoch 00001: LearningRateScheduler reducing learning rate to 0.009999999776482582.\n",
      "Epoch 1/10\n",
      "  2/142 [..............................] - ETA: 51s - loss: 3.0082 - accuracy: 0.0700WARNING:tensorflow:Callbacks method `on_train_batch_end` is slow compared to the batch time (batch time: 0.1386s vs `on_train_batch_end` time: 0.5970s). Check your callbacks.\n",
      "141/142 [============================>.] - ETA: 0s - loss: 2.9933 - accuracy: 0.0586{'loss': 2.99324893951416, 'accuracy': 0.05856525897979736, 'val_loss': 2.9887657165527344, 'val_accuracy': 0.055236879736185074, 'val_micro_f1': 0.10408407677577604}\n",
      "\n",
      "Epoch 00001: val_accuracy improved from -inf to 0.05524, saving model to model_save\\best_model_2-01-0.0552.hdf5\n",
      "142/142 [==============================] - 30s 214ms/step - loss: 2.9932 - accuracy: 0.0586 - val_loss: 2.9888 - val_accuracy: 0.0552\n",
      "\n",
      "Epoch 00002: LearningRateScheduler reducing learning rate to 0.009999999776482582.\n",
      "Epoch 2/10\n",
      "141/142 [============================>.] - ETA: 0s - loss: 2.9866 - accuracy: 0.0565{'loss': 2.9865798950195312, 'accuracy': 0.05644076317548752, 'val_loss': 2.9829885959625244, 'val_accuracy': 0.07180794328451157, 'val_micro_f1': 0.10900338128259499}\n",
      "\n",
      "Epoch 00002: val_accuracy improved from 0.05524 to 0.07181, saving model to model_save\\best_model_2-02-0.0718.hdf5\n",
      "142/142 [==============================] - 29s 205ms/step - loss: 2.9866 - accuracy: 0.0564 - val_loss: 2.9830 - val_accuracy: 0.0718\n",
      "\n",
      "Epoch 00003: LearningRateScheduler reducing learning rate to 0.008999999798834325.\n",
      "Epoch 3/10\n",
      "141/142 [============================>.] - ETA: 0s - loss: 2.9803 - accuracy: 0.0671{'loss': 2.9803810119628906, 'accuracy': 0.06706324219703674, 'val_loss': 2.975148916244507, 'val_accuracy': 0.07053324580192566, 'val_micro_f1': 0.10821297405056093}\n",
      "\n",
      "Epoch 00003: val_accuracy did not improve from 0.07181\n",
      "142/142 [==============================] - 28s 198ms/step - loss: 2.9804 - accuracy: 0.0671 - val_loss: 2.9751 - val_accuracy: 0.0705\n",
      "\n",
      "Epoch 00004: LearningRateScheduler reducing learning rate to 0.008099999651312828.\n",
      "Epoch 4/10\n",
      "141/142 [============================>.] - ETA: 0s - loss: 2.9751 - accuracy: 0.0695{'loss': 2.9750900268554688, 'accuracy': 0.06940018385648727, 'val_loss': 2.9739179611206055, 'val_accuracy': 0.06826712191104889, 'val_micro_f1': 0.10813509430536913}\n",
      "\n",
      "Epoch 00004: val_accuracy did not improve from 0.07181\n",
      "142/142 [==============================] - 28s 199ms/step - loss: 2.9751 - accuracy: 0.0694 - val_loss: 2.9739 - val_accuracy: 0.0683\n",
      "\n",
      "Epoch 00005: LearningRateScheduler reducing learning rate to 0.007289999350905419.\n",
      "Epoch 5/10\n",
      "141/142 [============================>.] - ETA: 0s - loss: 2.9722 - accuracy: 0.0696{'loss': 2.9722440242767334, 'accuracy': 0.06961263716220856, 'val_loss': 2.9681711196899414, 'val_accuracy': 0.06819630414247513, 'val_micro_f1': 0.10861631481730036}\n",
      "\n",
      "Epoch 00005: val_accuracy did not improve from 0.07181\n",
      "142/142 [==============================] - 28s 199ms/step - loss: 2.9722 - accuracy: 0.0696 - val_loss: 2.9682 - val_accuracy: 0.0682\n",
      "\n",
      "Epoch 00006: LearningRateScheduler reducing learning rate to 0.006560999248176813.\n",
      "Epoch 6/10\n",
      "141/142 [============================>.] - ETA: 0s - loss: 2.9706 - accuracy: 0.0677{'loss': 2.970442771911621, 'accuracy': 0.06784222275018692, 'val_loss': 2.966162919998169, 'val_accuracy': 0.06649670749902725, 'val_micro_f1': 0.10872406170230957}\n",
      "\n",
      "Epoch 00006: val_accuracy did not improve from 0.07181\n",
      "142/142 [==============================] - 28s 199ms/step - loss: 2.9704 - accuracy: 0.0678 - val_loss: 2.9662 - val_accuracy: 0.0665\n",
      "\n",
      "Epoch 00007: LearningRateScheduler reducing learning rate to 0.005904899490997195.\n",
      "Epoch 7/10\n",
      "141/142 [============================>.] - ETA: 0s - loss: 2.9679 - accuracy: 0.0674{'loss': 2.9679923057556152, 'accuracy': 0.06734650582075119, 'val_loss': 2.965979814529419, 'val_accuracy': 0.07010834664106369, 'val_micro_f1': 0.10860711376595167}\n",
      "\n",
      "Epoch 00007: val_accuracy did not improve from 0.07181\n",
      "142/142 [==============================] - 28s 198ms/step - loss: 2.9680 - accuracy: 0.0673 - val_loss: 2.9660 - val_accuracy: 0.0701\n",
      "\n",
      "Epoch 00008: LearningRateScheduler reducing learning rate to 0.00531440949998796.\n",
      "Epoch 8/10\n",
      "141/142 [============================>.] - ETA: 0s - loss: 2.9654 - accuracy: 0.0689{'loss': 2.9654059410095215, 'accuracy': 0.0689752846956253, 'val_loss': 2.9649579524993896, 'val_accuracy': 0.06925854831933975, 'val_micro_f1': 0.10858861480996385}\n",
      "\n",
      "Epoch 00008: val_accuracy did not improve from 0.07181\n",
      "142/142 [==============================] - 28s 200ms/step - loss: 2.9654 - accuracy: 0.0690 - val_loss: 2.9650 - val_accuracy: 0.0693\n",
      "\n",
      "Epoch 00009: LearningRateScheduler reducing learning rate to 0.004782968759536744.\n",
      "Epoch 9/10\n",
      "141/142 [============================>.] - ETA: 0s - loss: 2.9635 - accuracy: 0.0699{'loss': 2.963491201400757, 'accuracy': 0.07003753632307053, 'val_loss': 2.9618022441864014, 'val_accuracy': 0.06947100162506104, 'val_micro_f1': 0.10876063601722297}\n",
      "\n",
      "Epoch 00009: val_accuracy did not improve from 0.07181\n",
      "142/142 [==============================] - 28s 198ms/step - loss: 2.9635 - accuracy: 0.0700 - val_loss: 2.9618 - val_accuracy: 0.0695\n",
      "\n",
      "Epoch 00010: LearningRateScheduler reducing learning rate to 0.0043046717997640375.\n",
      "Epoch 10/10\n",
      "141/142 [============================>.] - ETA: 0s - loss: 2.9620 - accuracy: 0.0695{'loss': 2.961968421936035, 'accuracy': 0.0695418193936348, 'val_loss': 2.95858097076416, 'val_accuracy': 0.06961263716220856, 'val_micro_f1': 0.10900261577213718}\n",
      "\n",
      "Epoch 00010: val_accuracy did not improve from 0.07181\n",
      "142/142 [==============================] - 29s 201ms/step - loss: 2.9620 - accuracy: 0.0695 - val_loss: 2.9586 - val_accuracy: 0.0696\n"
     ]
    },
    {
     "data": {
      "text/plain": [
       "<tensorflow.python.keras.callbacks.History at 0x1a0613ab610>"
      ]
     },
     "execution_count": 533,
     "metadata": {},
     "output_type": "execute_result"
    }
   ],
   "source": [
    "history_own = LossHistory(model2,truncated_char_train,y_train_char )\n",
    "optimizer = tf.keras.optimizers.SGD(learning_rate=0.01, momentum=0.8)\n",
    "\n",
    "model2.compile(optimizer=optimizer, loss='categorical_crossentropy',metrics=['accuracy'])\n",
    "\n",
    "model2.fit(truncated_char_train,y_train_char,epochs=10, validation_data=(truncated_char_train,y_train_char), batch_size=100, callbacks=[history_own,earlystop,learningRate,checkpoint,termnateFun, tensorboard_callback])"
   ]
  },
  {
   "cell_type": "code",
   "execution_count": 536,
   "metadata": {},
   "outputs": [
    {
     "data": {
      "text/plain": [
       "Reusing TensorBoard on port 6006 (pid 14688), started 0:40:00 ago. (Use '!kill 14688' to kill it.)"
      ]
     },
     "metadata": {},
     "output_type": "display_data"
    },
    {
     "data": {
      "text/html": [
       "\n",
       "      <iframe id=\"tensorboard-frame-8aac867ad9faa997\" width=\"100%\" height=\"800\" frameborder=\"0\">\n",
       "      </iframe>\n",
       "      <script>\n",
       "        (function() {\n",
       "          const frame = document.getElementById(\"tensorboard-frame-8aac867ad9faa997\");\n",
       "          const url = new URL(\"/\", window.location);\n",
       "          const port = 6006;\n",
       "          if (port) {\n",
       "            url.port = port;\n",
       "          }\n",
       "          frame.src = url;\n",
       "        })();\n",
       "      </script>\n",
       "    "
      ],
      "text/plain": [
       "<IPython.core.display.HTML object>"
      ]
     },
     "metadata": {},
     "output_type": "display_data"
    }
   ],
   "source": [
    "logs_base_dir = \"./logs\"\n",
    "os.makedirs(logs_base_dir, exist_ok=True)\n",
    "%tensorboard --logdir {logs_base_dir}"
   ]
  },
  {
   "cell_type": "code",
   "execution_count": 534,
   "metadata": {},
   "outputs": [
    {
     "data": {
      "text/plain": [
       "{'loss': [2.99324893951416,\n",
       "  2.9865798950195312,\n",
       "  2.9803810119628906,\n",
       "  2.9750900268554688,\n",
       "  2.9722440242767334,\n",
       "  2.970442771911621,\n",
       "  2.9679923057556152,\n",
       "  2.9654059410095215,\n",
       "  2.963491201400757,\n",
       "  2.961968421936035],\n",
       " 'accuracy': [0.05856525897979736,\n",
       "  0.05644076317548752,\n",
       "  0.06706324219703674,\n",
       "  0.06940018385648727,\n",
       "  0.06961263716220856,\n",
       "  0.06784222275018692,\n",
       "  0.06734650582075119,\n",
       "  0.0689752846956253,\n",
       "  0.07003753632307053,\n",
       "  0.0695418193936348],\n",
       " 'val_loss': [2.9887657165527344,\n",
       "  2.9829885959625244,\n",
       "  2.975148916244507,\n",
       "  2.9739179611206055,\n",
       "  2.9681711196899414,\n",
       "  2.966162919998169,\n",
       "  2.965979814529419,\n",
       "  2.9649579524993896,\n",
       "  2.9618022441864014,\n",
       "  2.95858097076416],\n",
       " 'val_micro_f1': [0.10408407677577604,\n",
       "  0.10900338128259499,\n",
       "  0.10821297405056093,\n",
       "  0.10813509430536913,\n",
       "  0.10861631481730036,\n",
       "  0.10872406170230957,\n",
       "  0.10860711376595167,\n",
       "  0.10858861480996385,\n",
       "  0.10876063601722297,\n",
       "  0.10900261577213718],\n",
       " 'val_accuracy': [0.055236879736185074,\n",
       "  0.07180794328451157,\n",
       "  0.07053324580192566,\n",
       "  0.06826712191104889,\n",
       "  0.06819630414247513,\n",
       "  0.06649670749902725,\n",
       "  0.07010834664106369,\n",
       "  0.06925854831933975,\n",
       "  0.06947100162506104,\n",
       "  0.06961263716220856]}"
      ]
     },
     "execution_count": 534,
     "metadata": {},
     "output_type": "execute_result"
    }
   ],
   "source": [
    "history_own.history"
   ]
  },
  {
   "cell_type": "code",
   "execution_count": 537,
   "metadata": {},
   "outputs": [
    {
     "name": "stdout",
     "output_type": "stream",
     "text": [
      "148/148 [==============================] - 2s 11ms/step - loss: 2.9527 - accuracy: 0.0718\n"
     ]
    }
   ],
   "source": [
    "results_2 = model2.evaluate(truncated_char_test,y_test_char)"
   ]
  },
  {
   "cell_type": "code",
   "execution_count": 538,
   "metadata": {},
   "outputs": [
    {
     "data": {
      "text/plain": [
       "[2.9526712894439697, 0.07180794328451157]"
      ]
     },
     "execution_count": 538,
     "metadata": {},
     "output_type": "execute_result"
    }
   ],
   "source": [
    "results_2"
   ]
  },
  {
   "cell_type": "code",
   "execution_count": 535,
   "metadata": {},
   "outputs": [
    {
     "name": "stdout",
     "output_type": "stream",
     "text": [
      "0.11049183887662407\n"
     ]
    }
   ],
   "source": [
    "pred_y_test_char = np.round(model2.predict(truncated_char_test))\n",
    "model2_f1 = f1_score(y_test_char, pred_y_test_char, average='micro')\n",
    "print(model2_f1)"
   ]
  },
  {
   "cell_type": "code",
   "execution_count": 543,
   "metadata": {},
   "outputs": [
    {
     "data": {
      "text/plain": [
       "[1.152989149093628, 0.6466963887214661, 0.6432062561094819]"
      ]
     },
     "execution_count": 543,
     "metadata": {},
     "output_type": "execute_result"
    }
   ],
   "source": [
    "results_1.append(model1_f1)\n",
    "results_2.append(model2_f1)"
   ]
  },
  {
   "cell_type": "code",
   "execution_count": 544,
   "metadata": {},
   "outputs": [],
   "source": [
    "loss_table = pd.DataFrame([results_1, results_2], columns=['Loss','Accuracy' ,'f1 score'], index=['Model-1','Model-2'])"
   ]
  },
  {
   "cell_type": "code",
   "execution_count": 545,
   "metadata": {},
   "outputs": [
    {
     "data": {
      "text/html": [
       "<div>\n",
       "<style scoped>\n",
       "    .dataframe tbody tr th:only-of-type {\n",
       "        vertical-align: middle;\n",
       "    }\n",
       "\n",
       "    .dataframe tbody tr th {\n",
       "        vertical-align: top;\n",
       "    }\n",
       "\n",
       "    .dataframe thead th {\n",
       "        text-align: right;\n",
       "    }\n",
       "</style>\n",
       "<table border=\"1\" class=\"dataframe\">\n",
       "  <thead>\n",
       "    <tr style=\"text-align: right;\">\n",
       "      <th></th>\n",
       "      <th>Loss</th>\n",
       "      <th>Accuracy</th>\n",
       "      <th>f1 score</th>\n",
       "    </tr>\n",
       "  </thead>\n",
       "  <tbody>\n",
       "    <tr>\n",
       "      <th>Model-1</th>\n",
       "      <td>1.152989</td>\n",
       "      <td>0.646696</td>\n",
       "      <td>0.643206</td>\n",
       "    </tr>\n",
       "    <tr>\n",
       "      <th>Model-2</th>\n",
       "      <td>2.952671</td>\n",
       "      <td>0.071808</td>\n",
       "      <td>0.110492</td>\n",
       "    </tr>\n",
       "  </tbody>\n",
       "</table>\n",
       "</div>"
      ],
      "text/plain": [
       "             Loss  Accuracy  f1 score\n",
       "Model-1  1.152989  0.646696  0.643206\n",
       "Model-2  2.952671  0.071808  0.110492"
      ]
     },
     "execution_count": 545,
     "metadata": {},
     "output_type": "execute_result"
    }
   ],
   "source": [
    "loss_table"
   ]
  },
  {
   "cell_type": "markdown",
   "metadata": {},
   "source": [
    "Model 1 has better loss, accuracy and f1 score compared to model 2.\n",
    "\n",
    "And model 1 took less time to train on "
   ]
  }
 ],
 "metadata": {
  "colab": {
   "collapsed_sections": [],
   "name": "Text Classification Assignment.ipynb",
   "provenance": []
  },
  "kernelspec": {
   "display_name": "Python 3",
   "language": "python",
   "name": "python3"
  },
  "language_info": {
   "codemirror_mode": {
    "name": "ipython",
    "version": 3
   },
   "file_extension": ".py",
   "mimetype": "text/x-python",
   "name": "python",
   "nbconvert_exporter": "python",
   "pygments_lexer": "ipython3",
   "version": "3.8.3"
  }
 },
 "nbformat": 4,
 "nbformat_minor": 1
}
